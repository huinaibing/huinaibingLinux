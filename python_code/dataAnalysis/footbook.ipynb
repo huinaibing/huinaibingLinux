{
 "cells": [
  {
   "cell_type": "code",
   "execution_count": 4,
   "id": "initial_id",
   "metadata": {
    "ExecuteTime": {
     "end_time": "2025-03-04T10:34:43.730465Z",
     "start_time": "2025-03-04T10:34:43.724597Z"
    },
    "collapsed": true
   },
   "outputs": [],
   "source": [
    "a = 3\n",
    "b = 5"
   ]
  },
  {
   "cell_type": "code",
   "execution_count": 7,
   "id": "d256298b8d494bb4",
   "metadata": {
    "ExecuteTime": {
     "end_time": "2025-03-04T10:35:31.804455Z",
     "start_time": "2025-03-04T10:35:31.792560Z"
    }
   },
   "outputs": [
    {
     "data": {
      "text/plain": [
       "8"
      ]
     },
     "execution_count": 7,
     "metadata": {},
     "output_type": "execute_result"
    }
   ],
   "source": [
    "a + b"
   ]
  },
  {
   "cell_type": "code",
   "execution_count": 8,
   "id": "a82fb50c90161f3a",
   "metadata": {
    "ExecuteTime": {
     "end_time": "2025-03-04T10:35:55.592895Z",
     "start_time": "2025-03-04T10:35:55.585514Z"
    }
   },
   "outputs": [
    {
     "data": {
      "text/plain": [
       "-2"
      ]
     },
     "execution_count": 8,
     "metadata": {},
     "output_type": "execute_result"
    }
   ],
   "source": [
    "a - b"
   ]
  },
  {
   "cell_type": "code",
   "execution_count": 9,
   "id": "fda28e0b22f1abd",
   "metadata": {
    "ExecuteTime": {
     "end_time": "2025-03-04T10:35:58.815551Z",
     "start_time": "2025-03-04T10:35:58.808038Z"
    }
   },
   "outputs": [
    {
     "data": {
      "text/plain": [
       "15"
      ]
     },
     "execution_count": 9,
     "metadata": {},
     "output_type": "execute_result"
    }
   ],
   "source": [
    "a * b"
   ]
  },
  {
   "cell_type": "code",
   "execution_count": 10,
   "id": "3189b8533763e199",
   "metadata": {
    "ExecuteTime": {
     "end_time": "2025-03-04T10:36:02.951881Z",
     "start_time": "2025-03-04T10:36:02.945645Z"
    }
   },
   "outputs": [
    {
     "data": {
      "text/plain": [
       "0.6"
      ]
     },
     "execution_count": 10,
     "metadata": {},
     "output_type": "execute_result"
    }
   ],
   "source": [
    "a / b"
   ]
  },
  {
   "cell_type": "code",
   "execution_count": 11,
   "id": "9a930df230a42ef7",
   "metadata": {
    "ExecuteTime": {
     "end_time": "2025-03-04T10:36:16.698500Z",
     "start_time": "2025-03-04T10:36:16.685505Z"
    }
   },
   "outputs": [
    {
     "data": {
      "text/plain": [
       "0"
      ]
     },
     "execution_count": 11,
     "metadata": {},
     "output_type": "execute_result"
    }
   ],
   "source": [
    "a // b"
   ]
  },
  {
   "cell_type": "code",
   "execution_count": 12,
   "id": "954d993460ab8a87",
   "metadata": {
    "ExecuteTime": {
     "end_time": "2025-03-04T10:37:30.007994Z",
     "start_time": "2025-03-04T10:37:29.989960Z"
    }
   },
   "outputs": [
    {
     "data": {
      "text/plain": [
       "3"
      ]
     },
     "execution_count": 12,
     "metadata": {},
     "output_type": "execute_result"
    }
   ],
   "source": [
    "a % b"
   ]
  },
  {
   "cell_type": "code",
   "execution_count": 13,
   "id": "80729fd62154443f",
   "metadata": {
    "ExecuteTime": {
     "end_time": "2025-03-04T10:38:09.110431Z",
     "start_time": "2025-03-04T10:38:09.104888Z"
    }
   },
   "outputs": [
    {
     "data": {
      "text/plain": [
       "243"
      ]
     },
     "execution_count": 13,
     "metadata": {},
     "output_type": "execute_result"
    }
   ],
   "source": [
    "a ** b"
   ]
  },
  {
   "cell_type": "code",
   "execution_count": 14,
   "id": "89102d45ea103a34",
   "metadata": {
    "ExecuteTime": {
     "end_time": "2025-03-04T10:39:09.002592Z",
     "start_time": "2025-03-04T10:39:08.999020Z"
    }
   },
   "outputs": [],
   "source": [
    "import math as m"
   ]
  },
  {
   "cell_type": "code",
   "execution_count": 22,
   "id": "ad358faa1640c446",
   "metadata": {
    "ExecuteTime": {
     "end_time": "2025-03-04T10:41:29.845497Z",
     "start_time": "2025-03-04T10:41:29.831128Z"
    }
   },
   "outputs": [
    {
     "data": {
      "text/plain": [
       "['__doc__',\n",
       " '__loader__',\n",
       " '__name__',\n",
       " '__package__',\n",
       " '__spec__',\n",
       " 'acos',\n",
       " 'acosh',\n",
       " 'asin',\n",
       " 'asinh',\n",
       " 'atan',\n",
       " 'atan2',\n",
       " 'atanh',\n",
       " 'cbrt',\n",
       " 'ceil',\n",
       " 'comb',\n",
       " 'copysign',\n",
       " 'cos',\n",
       " 'cosh',\n",
       " 'degrees',\n",
       " 'dist',\n",
       " 'e',\n",
       " 'erf',\n",
       " 'erfc',\n",
       " 'exp',\n",
       " 'exp2',\n",
       " 'expm1',\n",
       " 'fabs',\n",
       " 'factorial',\n",
       " 'floor',\n",
       " 'fmod',\n",
       " 'frexp',\n",
       " 'fsum',\n",
       " 'gamma',\n",
       " 'gcd',\n",
       " 'hypot',\n",
       " 'inf',\n",
       " 'isclose',\n",
       " 'isfinite',\n",
       " 'isinf',\n",
       " 'isnan',\n",
       " 'isqrt',\n",
       " 'lcm',\n",
       " 'ldexp',\n",
       " 'lgamma',\n",
       " 'log',\n",
       " 'log10',\n",
       " 'log1p',\n",
       " 'log2',\n",
       " 'modf',\n",
       " 'nan',\n",
       " 'nextafter',\n",
       " 'perm',\n",
       " 'pi',\n",
       " 'pow',\n",
       " 'prod',\n",
       " 'radians',\n",
       " 'remainder',\n",
       " 'sin',\n",
       " 'sinh',\n",
       " 'sqrt',\n",
       " 'sumprod',\n",
       " 'tan',\n",
       " 'tanh',\n",
       " 'tau',\n",
       " 'trunc',\n",
       " 'ulp']"
      ]
     },
     "execution_count": 22,
     "metadata": {},
     "output_type": "execute_result"
    }
   ],
   "source": [
    "dir(m) # 展示这个库"
   ]
  },
  {
   "cell_type": "code",
   "execution_count": 23,
   "id": "c2d9bb6ce6079b63",
   "metadata": {
    "ExecuteTime": {
     "end_time": "2025-03-04T10:42:01.049328Z",
     "start_time": "2025-03-04T10:42:01.034976Z"
    }
   },
   "outputs": [
    {
     "data": {
      "text/plain": [
       "1.7320508075688772"
      ]
     },
     "execution_count": 23,
     "metadata": {},
     "output_type": "execute_result"
    }
   ],
   "source": [
    "m.sqrt(a)"
   ]
  },
  {
   "cell_type": "code",
   "execution_count": 24,
   "id": "3f244a849c4eea5f",
   "metadata": {
    "ExecuteTime": {
     "end_time": "2025-03-04T10:42:23.380366Z",
     "start_time": "2025-03-04T10:42:23.374659Z"
    }
   },
   "outputs": [
    {
     "data": {
      "text/plain": [
       "148.4131591025766"
      ]
     },
     "execution_count": 24,
     "metadata": {},
     "output_type": "execute_result"
    }
   ],
   "source": [
    "m.exp(b)"
   ]
  },
  {
   "cell_type": "code",
   "execution_count": 25,
   "id": "433d7c9b08d318d",
   "metadata": {
    "ExecuteTime": {
     "end_time": "2025-03-04T10:42:30.685430Z",
     "start_time": "2025-03-04T10:42:30.679374Z"
    }
   },
   "outputs": [
    {
     "data": {
      "text/plain": [
       "3.141592653589793"
      ]
     },
     "execution_count": 25,
     "metadata": {},
     "output_type": "execute_result"
    }
   ],
   "source": [
    "m.pi"
   ]
  },
  {
   "cell_type": "code",
   "execution_count": 28,
   "id": "78a32d3f35842ca",
   "metadata": {
    "ExecuteTime": {
     "end_time": "2025-03-04T10:43:18.778003Z",
     "start_time": "2025-03-04T10:43:18.761799Z"
    }
   },
   "outputs": [],
   "source": [
    "from math import *"
   ]
  },
  {
   "cell_type": "code",
   "execution_count": 29,
   "id": "938b7116fc05eeff",
   "metadata": {
    "ExecuteTime": {
     "end_time": "2025-03-04T10:43:19.165520Z",
     "start_time": "2025-03-04T10:43:19.145942Z"
    }
   },
   "outputs": [
    {
     "data": {
      "text/plain": [
       "2.449489742783178"
      ]
     },
     "execution_count": 29,
     "metadata": {},
     "output_type": "execute_result"
    }
   ],
   "source": [
    "sqrt(6)"
   ]
  },
  {
   "cell_type": "code",
   "execution_count": 30,
   "id": "f376ca0047344e72",
   "metadata": {
    "ExecuteTime": {
     "end_time": "2025-03-04T10:47:22.653834Z",
     "start_time": "2025-03-04T10:47:22.641401Z"
    }
   },
   "outputs": [
    {
     "data": {
      "text/plain": [
       "120"
      ]
     },
     "execution_count": 30,
     "metadata": {},
     "output_type": "execute_result"
    }
   ],
   "source": [
    "m.factorial(5)"
   ]
  },
  {
   "cell_type": "code",
   "execution_count": 31,
   "id": "cd21ca5f7fa98925",
   "metadata": {
    "ExecuteTime": {
     "end_time": "2025-03-04T10:47:37.660690Z",
     "start_time": "2025-03-04T10:47:37.642901Z"
    }
   },
   "outputs": [
    {
     "name": "stdout",
     "output_type": "stream",
     "text": [
      "Help on built-in function factorial in module math:\n",
      "\n",
      "factorial(n, /)\n",
      "    Find n!.\n",
      "\n",
      "    Raise a ValueError if x is negative or non-integral.\n",
      "\n"
     ]
    }
   ],
   "source": [
    "help(m.factorial)"
   ]
  },
  {
   "cell_type": "code",
   "execution_count": 33,
   "id": "f9484ca2050a7d81",
   "metadata": {
    "ExecuteTime": {
     "end_time": "2025-03-04T10:49:14.294468Z",
     "start_time": "2025-03-04T10:49:14.282414Z"
    }
   },
   "outputs": [
    {
     "data": {
      "text/plain": [
       "120"
      ]
     },
     "execution_count": 33,
     "metadata": {},
     "output_type": "execute_result"
    }
   ],
   "source": [
    "m.factorial(5)"
   ]
  },
  {
   "cell_type": "code",
   "execution_count": 34,
   "id": "3993ab2f8fafa115",
   "metadata": {
    "ExecuteTime": {
     "end_time": "2025-03-04T10:51:02.131339Z",
     "start_time": "2025-03-04T10:51:02.126237Z"
    }
   },
   "outputs": [
    {
     "data": {
      "text/plain": [
       "0.49999999999999994"
      ]
     },
     "execution_count": 34,
     "metadata": {},
     "output_type": "execute_result"
    }
   ],
   "source": [
    "m.sin(m.pi / 6)"
   ]
  },
  {
   "cell_type": "code",
   "execution_count": 38,
   "id": "5d3ff5195f3301e9",
   "metadata": {
    "ExecuteTime": {
     "end_time": "2025-03-04T10:53:51.805920Z",
     "start_time": "2025-03-04T10:53:51.796714Z"
    }
   },
   "outputs": [],
   "source": [
    "def my_function(x=0):\n",
    "    print(\"我真帅\")"
   ]
  },
  {
   "cell_type": "code",
   "execution_count": 39,
   "id": "f0e1901d177b0a0e",
   "metadata": {
    "ExecuteTime": {
     "end_time": "2025-03-04T10:53:55.093004Z",
     "start_time": "2025-03-04T10:53:55.088952Z"
    }
   },
   "outputs": [
    {
     "name": "stdout",
     "output_type": "stream",
     "text": [
      "我真帅\n"
     ]
    }
   ],
   "source": [
    "my_function()"
   ]
  },
  {
   "cell_type": "markdown",
   "id": "74ace553853beabe",
   "metadata": {},
   "source": [
    "$$\n",
    "\\begin{align}\n",
    "    \\gamma = \\frac{1}{\\sqrt{1 - \\beta^2}}\n",
    "\\end{align}\n",
    "$$"
   ]
  },
  {
   "cell_type": "code",
   "execution_count": 48,
   "id": "55efcb28dce22cd3",
   "metadata": {
    "ExecuteTime": {
     "end_time": "2025-03-04T11:05:12.131980Z",
     "start_time": "2025-03-04T11:05:12.125750Z"
    }
   },
   "outputs": [],
   "source": [
    "def lorentz_gamma_factor(beta: float) -> float:\n",
    "    \"\"\"\n",
    "    一个用于计算洛伦兹因子的函数\n",
    "    :param beta: 速度（0~1之间）\n",
    "    :return: gamma 若不合规则返回math.inf\n",
    "    \"\"\"\n",
    "    if not 0 < beta < 1:\n",
    "        print(\"error beta value\")\n",
    "        return m.inf\n",
    "    return 1 / m.sqrt(1 - beta ** 2)"
   ]
  },
  {
   "cell_type": "code",
   "execution_count": 47,
   "id": "759131f663ca1e29",
   "metadata": {
    "ExecuteTime": {
     "end_time": "2025-03-04T11:01:59.355268Z",
     "start_time": "2025-03-04T11:01:59.351182Z"
    }
   },
   "outputs": [
    {
     "data": {
      "text/plain": [
       "2236.068033945294"
      ]
     },
     "execution_count": 47,
     "metadata": {},
     "output_type": "execute_result"
    }
   ],
   "source": [
    "lorentz_gamma_factor(0.9999999)"
   ]
  },
  {
   "cell_type": "markdown",
   "id": "d8988fb6bb21ba19",
   "metadata": {},
   "source": [
    "$$\n",
    "\\frac{df}{dx} = \\frac{f(x + dx) - f(x)}{dx}\n",
    "$$"
   ]
  },
  {
   "cell_type": "code",
   "execution_count": 72,
   "id": "7e578c34f4153f03",
   "metadata": {
    "ExecuteTime": {
     "end_time": "2025-03-04T11:18:25.789513Z",
     "start_time": "2025-03-04T11:18:25.772439Z"
    }
   },
   "outputs": [],
   "source": [
    "def calculate_dao_shu(func, x, dx=0.01):\n",
    "    \"\"\"\n",
    "    计算一个一维的函数的导数, 误差来源是截断误差（泰勒）\n",
    "    :param func: 某一个函数\n",
    "    :param x: 需要导数的那个地方\n",
    "    :param dx: 步长\n",
    "    :return: 导数的值\n",
    "    \"\"\"\n",
    "    return (func(x + dx) - func(x)) / dx"
   ]
  },
  {
   "cell_type": "code",
   "execution_count": 73,
   "id": "526d737ee8584abf",
   "metadata": {
    "ExecuteTime": {
     "end_time": "2025-03-04T11:18:26.763468Z",
     "start_time": "2025-03-04T11:18:26.752372Z"
    }
   },
   "outputs": [
    {
     "data": {
      "text/plain": [
       "0.9999833334166665"
      ]
     },
     "execution_count": 73,
     "metadata": {},
     "output_type": "execute_result"
    }
   ],
   "source": [
    "calculate_dao_shu(m.sin, 0)"
   ]
  },
  {
   "cell_type": "code",
   "execution_count": 74,
   "id": "58c5b5848fb44b4f",
   "metadata": {
    "ExecuteTime": {
     "end_time": "2025-03-04T11:18:27.089660Z",
     "start_time": "2025-03-04T11:18:27.079646Z"
    }
   },
   "outputs": [
    {
     "data": {
      "text/plain": [
       "-0.5000000080634948"
      ]
     },
     "execution_count": 74,
     "metadata": {},
     "output_type": "execute_result"
    }
   ],
   "source": [
    "calculate_dao_shu(m.cos, m.pi / 6, dx=1e-8)"
   ]
  },
  {
   "cell_type": "markdown",
   "id": "7b9d296fab6e7f0e",
   "metadata": {},
   "source": [
    "## 数据类型"
   ]
  },
  {
   "cell_type": "code",
   "execution_count": 76,
   "id": "79ce55f098062042",
   "metadata": {
    "ExecuteTime": {
     "end_time": "2025-03-04T11:23:17.244309Z",
     "start_time": "2025-03-04T11:23:17.238051Z"
    }
   },
   "outputs": [],
   "source": [
    "a = [1, 2, 3, 4.0]"
   ]
  },
  {
   "cell_type": "code",
   "execution_count": 77,
   "id": "6893daf6cdb6376f",
   "metadata": {
    "ExecuteTime": {
     "end_time": "2025-03-04T11:23:25.789479Z",
     "start_time": "2025-03-04T11:23:25.773346Z"
    }
   },
   "outputs": [
    {
     "data": {
      "text/plain": [
       "float"
      ]
     },
     "execution_count": 77,
     "metadata": {},
     "output_type": "execute_result"
    }
   ],
   "source": [
    "type(a[3])"
   ]
  },
  {
   "cell_type": "code",
   "execution_count": 78,
   "id": "40e703d933d33432",
   "metadata": {
    "ExecuteTime": {
     "end_time": "2025-03-04T11:23:36.112301Z",
     "start_time": "2025-03-04T11:23:36.103377Z"
    }
   },
   "outputs": [
    {
     "data": {
      "text/plain": [
       "int"
      ]
     },
     "execution_count": 78,
     "metadata": {},
     "output_type": "execute_result"
    }
   ],
   "source": [
    "type(a[0])"
   ]
  },
  {
   "cell_type": "code",
   "execution_count": 81,
   "id": "72d52337057050a0",
   "metadata": {
    "ExecuteTime": {
     "end_time": "2025-03-04T11:26:09.985686Z",
     "start_time": "2025-03-04T11:26:09.970901Z"
    }
   },
   "outputs": [
    {
     "data": {
      "text/plain": [
       "[3, 4.0]"
      ]
     },
     "execution_count": 81,
     "metadata": {},
     "output_type": "execute_result"
    }
   ],
   "source": [
    "a[2:4]"
   ]
  },
  {
   "cell_type": "code",
   "execution_count": 82,
   "id": "9a44e8a0bbf7ba0f",
   "metadata": {
    "ExecuteTime": {
     "end_time": "2025-03-04T11:44:24.367357Z",
     "start_time": "2025-03-04T11:44:24.363368Z"
    }
   },
   "outputs": [],
   "source": [
    "a_dict = {\n",
    "    'a': a,\n",
    "    'b': b,\n",
    "    \"name\": []\n",
    "}\n",
    "\n"
   ]
  },
  {
   "cell_type": "code",
   "execution_count": 83,
   "id": "4db5d098099e1735",
   "metadata": {
    "ExecuteTime": {
     "end_time": "2025-03-04T11:44:34.008273Z",
     "start_time": "2025-03-04T11:44:34.004118Z"
    }
   },
   "outputs": [],
   "source": [
    "import numpy as np"
   ]
  },
  {
   "cell_type": "code",
   "execution_count": 85,
   "id": "d91418a9d6f8357",
   "metadata": {
    "ExecuteTime": {
     "end_time": "2025-03-04T11:46:46.977780Z",
     "start_time": "2025-03-04T11:46:46.967692Z"
    }
   },
   "outputs": [],
   "source": [
    "x = np.linspace(0, 10, 100) # 将0-10均匀分为100份"
   ]
  },
  {
   "cell_type": "code",
   "execution_count": 95,
   "id": "d30ab8eec8f9ef1b",
   "metadata": {
    "ExecuteTime": {
     "end_time": "2025-03-04T11:49:19.061822Z",
     "start_time": "2025-03-04T11:49:19.047291Z"
    }
   },
   "outputs": [],
   "source": [
    "x = x ** 2"
   ]
  },
  {
   "cell_type": "code",
   "execution_count": 88,
   "id": "a83c9bcf0ea15cca",
   "metadata": {
    "ExecuteTime": {
     "end_time": "2025-03-04T11:48:28.503705Z",
     "start_time": "2025-03-04T11:48:28.498567Z"
    }
   },
   "outputs": [
    {
     "data": {
      "text/plain": [
       "numpy.float64"
      ]
     },
     "execution_count": 88,
     "metadata": {},
     "output_type": "execute_result"
    }
   ],
   "source": [
    "type(x[0])"
   ]
  },
  {
   "cell_type": "code",
   "execution_count": 96,
   "id": "6a5132cca416c3d0",
   "metadata": {
    "ExecuteTime": {
     "end_time": "2025-03-04T11:49:21.871840Z",
     "start_time": "2025-03-04T11:49:21.867386Z"
    }
   },
   "outputs": [
    {
     "data": {
      "text/plain": [
       "array([0.00000000e+00, 1.17445637e-16, 7.69691724e-12, 5.05564955e-09,\n",
       "       5.04425168e-07, 1.79207820e-05, 3.31327049e-04, 3.90306269e-03,\n",
       "       3.30580078e-02, 2.17629136e-01, 1.17445637e+00, 5.39659528e+00,\n",
       "       2.17138495e+01, 7.81502773e+01, 2.55791116e+02, 7.71430901e+02,\n",
       "       2.16648960e+03, 5.71504466e+03, 1.42625430e+04, 3.38761855e+04,\n",
       "       7.69691724e+04, 1.68014051e+05, 3.53671268e+05, 7.20248335e+05,\n",
       "       1.42303884e+06, 2.73449432e+06, 5.12165657e+06, 9.36822069e+06,\n",
       "       1.67635266e+07, 2.93903564e+07, 5.05564955e+07, 8.54326716e+07,\n",
       "       1.41983063e+08, 2.32305731e+08, 3.74541167e+08, 5.95560103e+08,\n",
       "       9.34710021e+08, 1.44898694e+09, 2.22010969e+09, 3.36411318e+09,\n",
       "       5.04425168e+09, 7.48821998e+09, 1.10109688e+10, 1.60447212e+10,\n",
       "       2.31782002e+10, 3.32075708e+10, 4.72021949e+10, 6.65890185e+10,\n",
       "       9.32602734e+10, 1.29710211e+11, 1.79207820e+11, 2.46013933e+11,\n",
       "       3.35652885e+11, 4.55250886e+11, 6.13955711e+11, 8.23455090e+11,\n",
       "       1.09861448e+12, 1.45825870e+12, 1.92612640e+12, 2.53203132e+12,\n",
       "       3.31327049e+12, 4.31632608e+12, 5.59891557e+12, 7.23245396e+12,\n",
       "       9.30500199e+12, 1.19247860e+13, 1.52243884e+13, 1.93657236e+13,\n",
       "       2.45459299e+13, 3.10043291e+13, 3.90306269e+13, 4.89745513e+13,\n",
       "       6.12571559e+13, 7.63840442e+13, 9.49608082e+13, 1.17711014e+14,\n",
       "       1.45497109e+14, 1.79344676e+14, 2.20470522e+14, 2.70315125e+14,\n",
       "       3.30580078e+14, 4.03271182e+14, 4.90747984e+14, 5.95780610e+14,\n",
       "       7.21614853e+14, 8.72046609e+14, 1.05150685e+15, 1.26515847e+15,\n",
       "       1.51900653e+15, 1.82002349e+15, 2.17629136e+15, 2.59716274e+15,\n",
       "       3.09344304e+15, 3.67759638e+15, 4.36397791e+15, 5.16909568e+15,\n",
       "       6.11190528e+15, 7.21414114e+15, 8.50068841e+15, 1.00000000e+16])"
      ]
     },
     "execution_count": 96,
     "metadata": {},
     "output_type": "execute_result"
    }
   ],
   "source": [
    "x"
   ]
  },
  {
   "cell_type": "code",
   "execution_count": 97,
   "id": "d1c89d72129aa4fe",
   "metadata": {
    "ExecuteTime": {
     "end_time": "2025-03-04T11:53:14.603457Z",
     "start_time": "2025-03-04T11:53:14.214045Z"
    }
   },
   "outputs": [],
   "source": [
    "import matplotlib.pyplot as plt"
   ]
  },
  {
   "cell_type": "code",
   "execution_count": 100,
   "id": "cd124356530a7177",
   "metadata": {
    "ExecuteTime": {
     "end_time": "2025-03-04T11:54:55.981099Z",
     "start_time": "2025-03-04T11:54:55.834416Z"
    }
   },
   "outputs": [
    {
     "name": "stderr",
     "output_type": "stream",
     "text": [
      "C:\\Users\\asus\\AppData\\Local\\Temp\\ipykernel_20892\\3444998815.py:1: RuntimeWarning: overflow encountered in exp\n",
      "  plt.plot(x, np.exp(x))\n"
     ]
    },
    {
     "data": {
      "text/plain": [
       "[<matplotlib.lines.Line2D at 0x21917bb8a70>]"
      ]
     },
     "execution_count": 100,
     "metadata": {},
     "output_type": "execute_result"
    },
    {
     "data": {
      "image/png": "[encoded data removed]",
      "text/plain": [
       "<Figure size 640x480 with 1 Axes>"
      ]
     },
     "metadata": {},
     "output_type": "display_data"
    }
   ],
   "source": [
    "plt.plot(x, np.exp(x))"
   ]
  },
  {
   "cell_type": "code",
   "execution_count": 101,
   "id": "6f330188e40df563",
   "metadata": {
    "ExecuteTime": {
     "end_time": "2025-03-04T11:57:03.080390Z",
     "start_time": "2025-03-04T11:57:03.077256Z"
    }
   },
   "outputs": [],
   "source": [
    "x = np.linspace(0, 10, 100)"
   ]
  },
  {
   "cell_type": "code",
   "execution_count": 115,
   "id": "ffac7679bdcf8128",
   "metadata": {
    "ExecuteTime": {
     "end_time": "2025-03-04T12:04:49.675491Z",
     "start_time": "2025-03-04T12:04:49.446751Z"
    }
   },
   "outputs": [
    {
     "data": {
      "text/plain": [
       "Text(0, 1, 'y')"
      ]
     },
     "execution_count": 115,
     "metadata": {},
     "output_type": "execute_result"
    },
    {
     "data": {
      "image/png": "[encoded data removed]",
      "text/plain": [
       "<Figure size 1200x900 with 1 Axes>"
      ]
     },
     "metadata": {},
     "output_type": "display_data"
    }
   ],
   "source": [
    "plt.plot(x, np.sin(x), \"r-\", label=\"sin\")\n",
    "plt.plot(x, np.cos(x), \"k--\", label=\"cos\")\n",
    "plt.legend() # 记得加这个\n",
    "plt.xlabel(r\"$\\frac{dN}{dP_t}$\")\n",
    "plt.ylabel(\"y\")"
   ]
  },
  {
   "cell_type": "code",
   "execution_count": 110,
   "id": "b49d23298b53df1",
   "metadata": {
    "ExecuteTime": {
     "end_time": "2025-03-04T12:01:50.040555Z",
     "start_time": "2025-03-04T12:01:49.952524Z"
    }
   },
   "outputs": [],
   "source": [
    "import mplhep as hp"
   ]
  },
  {
   "cell_type": "code",
   "execution_count": 112,
   "id": "7813ca9835ef4ec5",
   "metadata": {
    "ExecuteTime": {
     "end_time": "2025-03-04T12:02:19.782569Z",
     "start_time": "2025-03-04T12:02:19.770299Z"
    }
   },
   "outputs": [],
   "source": [
    "hp.style.use('ALICE')"
   ]
  },
  {
   "cell_type": "code",
   "execution_count": 1,
   "id": "917ceb1c0529bf1b",
   "metadata": {
    "ExecuteTime": {
     "end_time": "2025-03-04T12:16:13.686716Z",
     "start_time": "2025-03-04T12:16:13.674756Z"
    }
   },
   "outputs": [],
   "source": [
    "import XQY_Utils.physics_function as xqy"
   ]
  },
  {
   "cell_type": "code",
   "execution_count": 2,
   "id": "18ea6a7a6b0cccea",
   "metadata": {
    "ExecuteTime": {
     "end_time": "2025-03-04T12:16:14.070970Z",
     "start_time": "2025-03-04T12:16:14.062018Z"
    }
   },
   "outputs": [
    {
     "data": {
      "text/plain": [
       "2.294157338705618"
      ]
     },
     "execution_count": 2,
     "metadata": {},
     "output_type": "execute_result"
    }
   ],
   "source": [
    "xqy.PhysicsFunction.lorentz_gamma_factor(0.9)"
   ]
  },
  {
   "cell_type": "code",
   "execution_count": 1,
   "id": "8c035d523a6df7d1",
   "metadata": {
    "ExecuteTime": {
     "end_time": "2025-03-04T12:20:21.092846Z",
     "start_time": "2025-03-04T12:20:21.082501Z"
    }
   },
   "outputs": [],
   "source": [
    "import XQY_Utils.particle_data as pdc\n",
    "\n",
    "pion = pdc.ParticleData(0.138, 0, 0)"
   ]
  },
  {
   "cell_type": "code",
   "execution_count": 2,
   "id": "26e614ed4e2d14f1",
   "metadata": {
    "ExecuteTime": {
     "end_time": "2025-03-04T12:20:21.097462Z",
     "start_time": "2025-03-04T12:20:21.092846Z"
    }
   },
   "outputs": [
    {
     "data": {
      "text/plain": [
       "0"
      ]
     },
     "execution_count": 2,
     "metadata": {},
     "output_type": "execute_result"
    }
   ],
   "source": [
    "pion.charge"
   ]
  },
  {
   "cell_type": "code",
   "execution_count": 3,
   "id": "ed241730c7f0a489",
   "metadata": {
    "ExecuteTime": {
     "end_time": "2025-03-04T12:20:21.621153Z",
     "start_time": "2025-03-04T12:20:21.617098Z"
    }
   },
   "outputs": [
    {
     "data": {
      "text/plain": [
       "1"
      ]
     },
     "execution_count": 3,
     "metadata": {},
     "output_type": "execute_result"
    }
   ],
   "source": [
    "pion.calculate_spin_degree()"
   ]
  },
  {
   "cell_type": "code",
   "execution_count": 3,
   "id": "2c6713ab3e405ebe",
   "metadata": {
    "ExecuteTime": {
     "end_time": "2025-03-04T12:24:28.816971Z",
     "start_time": "2025-03-04T12:24:28.800673Z"
    }
   },
   "outputs": [],
   "source": [
    "import XQY_Utils as xqy"
   ]
  },
  {
   "cell_type": "code",
   "execution_count": 4,
   "id": "f8ac0b944d921994",
   "metadata": {
    "ExecuteTime": {
     "end_time": "2025-03-04T12:24:48.643763Z",
     "start_time": "2025-03-04T12:24:48.640366Z"
    }
   },
   "outputs": [],
   "source": [
    "a = xqy.particle_data.ParticleData(1, 1, 1)"
   ]
  },
  {
   "cell_type": "code",
   "execution_count": 5,
   "id": "6646ed3b1ab990aa",
   "metadata": {
    "ExecuteTime": {
     "end_time": "2025-03-04T12:24:49.198545Z",
     "start_time": "2025-03-04T12:24:49.183571Z"
    }
   },
   "outputs": [
    {
     "data": {
      "text/plain": [
       "<XQY_Utils.particle_data.ParticleData at 0x148de8af3b0>"
      ]
     },
     "execution_count": 5,
     "metadata": {},
     "output_type": "execute_result"
    }
   ],
   "source": [
    "a"
   ]
  },
  {
   "cell_type": "code",
   "execution_count": 6,
   "id": "2af8b43267bb06fe",
   "metadata": {
    "ExecuteTime": {
     "end_time": "2025-03-04T12:24:52.683431Z",
     "start_time": "2025-03-04T12:24:52.670605Z"
    }
   },
   "outputs": [
    {
     "data": {
      "text/plain": [
       "3"
      ]
     },
     "execution_count": 6,
     "metadata": {},
     "output_type": "execute_result"
    }
   ],
   "source": [
    "a.calculate_spin_degree()"
   ]
  },
  {
   "cell_type": "code",
   "execution_count": 1,
   "id": "2664f22352fec78",
   "metadata": {
    "ExecuteTime": {
     "end_time": "2025-03-04T12:35:32.276711Z",
     "start_time": "2025-03-04T12:35:32.196787Z"
    }
   },
   "outputs": [],
   "source": [
    "import XQY_Utils as XQY"
   ]
  },
  {
   "cell_type": "code",
   "execution_count": 2,
   "id": "fc0ae80daeef88ec",
   "metadata": {
    "ExecuteTime": {
     "end_time": "2025-03-04T12:35:57.006342Z",
     "start_time": "2025-03-04T12:35:57.002063Z"
    }
   },
   "outputs": [],
   "source": [
    "pion0 = XQY.ParticleData(0.138, 0, 0)"
   ]
  },
  {
   "cell_type": "code",
   "execution_count": 3,
   "id": "1633140a98c1153e",
   "metadata": {
    "ExecuteTime": {
     "end_time": "2025-03-04T12:36:25.822470Z",
     "start_time": "2025-03-04T12:36:25.490507Z"
    }
   },
   "outputs": [],
   "source": [
    "import numpy as np\n",
    "import matplotlib.pyplot as plt"
   ]
  },
  {
   "cell_type": "code",
   "execution_count": 4,
   "id": "104d438efd321ea2",
   "metadata": {
    "ExecuteTime": {
     "end_time": "2025-03-04T12:37:07.832826Z",
     "start_time": "2025-03-04T12:37:07.746008Z"
    }
   },
   "outputs": [
    {
     "data": {
      "text/plain": [
       "[<matplotlib.lines.Line2D at 0x21fd96069c0>]"
      ]
     },
     "execution_count": 4,
     "metadata": {},
     "output_type": "execute_result"
    },
    {
     "data": {
      "image/png": "[encoded data removed]",
      "text/plain": [
       "<Figure size 640x480 with 1 Axes>"
      ]
     },
     "metadata": {},
     "output_type": "display_data"
    }
   ],
   "source": [
    "p = np.linspace(0, 100, 1000)\n",
    "\n",
    "plt.plot(p, )"
   ]
  },
  {
   "cell_type": "code",
   "execution_count": 11,
   "id": "1d8f962bbc5a57ff",
   "metadata": {
    "ExecuteTime": {
     "end_time": "2025-03-04T12:43:04.375082Z",
     "start_time": "2025-03-04T12:43:04.369469Z"
    }
   },
   "outputs": [
    {
     "name": "stdout",
     "output_type": "stream",
     "text": [
      "['0.000000000000000000e+00\\n', '1.001001001001001062e-01\\n', '2.002002002002002123e-01\\n', '3.003003003003003046e-01\\n', '4.004004004004004247e-01\\n', '5.005005005005005447e-01\\n', '6.006006006006006093e-01\\n', '7.007007007007007848e-01\\n', '8.008008008008008494e-01\\n', '9.009009009009009139e-01\\n', '1.001001001001001089e+00\\n', '1.101101101101101154e+00\\n', '1.201201201201201219e+00\\n', '1.301301301301301283e+00\\n', '1.401401401401401570e+00\\n', '1.501501501501501634e+00\\n', '1.601601601601601699e+00\\n', '1.701701701701701763e+00\\n', '1.801801801801801828e+00\\n', '1.901901901901902114e+00\\n', '2.002002002002002179e+00\\n', '2.102102102102102243e+00\\n', '2.202202202202202308e+00\\n', '2.302302302302302373e+00\\n', '2.402402402402402437e+00\\n', '2.502502502502502502e+00\\n', '2.602602602602602566e+00\\n', '2.702702702702703075e+00\\n', '2.802802802802803139e+00\\n', '2.902902902902903204e+00\\n', '3.003003003003003268e+00\\n', '3.103103103103103333e+00\\n', '3.203203203203203397e+00\\n', '3.303303303303303462e+00\\n', '3.403403403403403527e+00\\n', '3.503503503503503591e+00\\n', '3.603603603603603656e+00\\n', '3.703703703703703720e+00\\n', '3.803803803803804229e+00\\n', '3.903903903903904293e+00\\n', '4.004004004004004358e+00\\n', '4.104104104104104422e+00\\n', '4.204204204204204487e+00\\n', '4.304304304304304551e+00\\n', '4.404404404404404616e+00\\n', '4.504504504504504681e+00\\n', '4.604604604604604745e+00\\n', '4.704704704704704810e+00\\n', '4.804804804804804874e+00\\n', '4.904904904904904939e+00\\n', '5.005005005005005003e+00\\n', '5.105105105105105068e+00\\n', '5.205205205205205132e+00\\n', '5.305305305305305197e+00\\n', '5.405405405405406150e+00\\n', '5.505505505505506214e+00\\n', '5.605605605605606279e+00\\n', '5.705705705705706343e+00\\n', '5.805805805805806408e+00\\n', '5.905905905905906472e+00\\n', '6.006006006006006537e+00\\n', '6.106106106106106601e+00\\n', '6.206206206206206666e+00\\n', '6.306306306306306730e+00\\n', '6.406406406406406795e+00\\n', '6.506506506506506859e+00\\n', '6.606606606606606924e+00\\n', '6.706706706706706989e+00\\n', '6.806806806806807053e+00\\n', '6.906906906906907118e+00\\n', '7.007007007007007182e+00\\n', '7.107107107107107247e+00\\n', '7.207207207207207311e+00\\n', '7.307307307307307376e+00\\n', '7.407407407407407440e+00\\n', '7.507507507507508393e+00\\n', '7.607607607607608458e+00\\n', '7.707707707707708522e+00\\n', '7.807807807807808587e+00\\n', '7.907907907907908651e+00\\n', '8.008008008008008716e+00\\n', '8.108108108108108780e+00\\n', '8.208208208208208845e+00\\n', '8.308308308308308909e+00\\n', '8.408408408408408974e+00\\n', '8.508508508508509038e+00\\n', '8.608608608608609103e+00\\n', '8.708708708708709167e+00\\n', '8.808808808808809232e+00\\n', '8.908908908908909297e+00\\n', '9.009009009009009361e+00\\n', '9.109109109109109426e+00\\n', '9.209209209209209490e+00\\n', '9.309309309309309555e+00\\n', '9.409409409409409619e+00\\n', '9.509509509509509684e+00\\n', '9.609609609609609748e+00\\n', '9.709709709709709813e+00\\n', '9.809809809809809877e+00\\n', '9.909909909909909942e+00\\n', '1.001001001001001001e+01\\n', '1.011011011011011007e+01\\n', '1.021021021021021014e+01\\n', '1.031031031031031020e+01\\n', '1.041041041041041026e+01\\n', '1.051051051051051033e+01\\n', '1.061061061061061039e+01\\n', '1.071071071071071223e+01\\n', '1.081081081081081230e+01\\n', '1.091091091091091236e+01\\n', '1.101101101101101243e+01\\n', '1.111111111111111249e+01\\n', '1.121121121121121256e+01\\n', '1.131131131131131262e+01\\n', '1.141141141141141269e+01\\n', '1.151151151151151275e+01\\n', '1.161161161161161282e+01\\n', '1.171171171171171288e+01\\n', '1.181181181181181294e+01\\n', '1.191191191191191301e+01\\n', '1.201201201201201307e+01\\n', '1.211211211211211314e+01\\n', '1.221221221221221320e+01\\n', '1.231231231231231327e+01\\n', '1.241241241241241333e+01\\n', '1.251251251251251340e+01\\n', '1.261261261261261346e+01\\n', '1.271271271271271353e+01\\n', '1.281281281281281359e+01\\n', '1.291291291291291365e+01\\n', '1.301301301301301372e+01\\n', '1.311311311311311378e+01\\n', '1.321321321321321385e+01\\n', '1.331331331331331391e+01\\n', '1.341341341341341398e+01\\n', '1.351351351351351404e+01\\n', '1.361361361361361411e+01\\n', '1.371371371371371417e+01\\n', '1.381381381381381424e+01\\n', '1.391391391391391430e+01\\n', '1.401401401401401436e+01\\n', '1.411411411411411443e+01\\n', '1.421421421421421449e+01\\n', '1.431431431431431456e+01\\n', '1.441441441441441462e+01\\n', '1.451451451451451469e+01\\n', '1.461461461461461475e+01\\n', '1.471471471471471482e+01\\n', '1.481481481481481488e+01\\n', '1.491491491491491495e+01\\n', '1.501501501501501679e+01\\n', '1.511511511511511685e+01\\n', '1.521521521521521692e+01\\n', '1.531531531531531698e+01\\n', '1.541541541541541704e+01\\n', '1.551551551551551711e+01\\n', '1.561561561561561717e+01\\n', '1.571571571571571724e+01\\n', '1.581581581581581730e+01\\n', '1.591591591591591737e+01\\n', '1.601601601601601743e+01\\n', '1.611611611611611750e+01\\n', '1.621621621621621756e+01\\n', '1.631631631631631763e+01\\n', '1.641641641641641769e+01\\n', '1.651651651651651775e+01\\n', '1.661661661661661782e+01\\n', '1.671671671671671788e+01\\n', '1.681681681681681795e+01\\n', '1.691691691691691801e+01\\n', '1.701701701701701808e+01\\n', '1.711711711711711814e+01\\n', '1.721721721721721821e+01\\n', '1.731731731731731827e+01\\n', '1.741741741741741833e+01\\n', '1.751751751751751840e+01\\n', '1.761761761761761846e+01\\n', '1.771771771771771853e+01\\n', '1.781781781781781859e+01\\n', '1.791791791791791866e+01\\n', '1.801801801801801872e+01\\n', '1.811811811811811879e+01\\n', '1.821821821821821885e+01\\n', '1.831831831831831892e+01\\n', '1.841841841841841898e+01\\n', '1.851851851851851904e+01\\n', '1.861861861861861911e+01\\n', '1.871871871871871917e+01\\n', '1.881881881881881924e+01\\n', '1.891891891891891930e+01\\n', '1.901901901901901937e+01\\n', '1.911911911911911943e+01\\n', '1.921921921921921950e+01\\n', '1.931931931931931956e+01\\n', '1.941941941941941963e+01\\n', '1.951951951951951969e+01\\n', '1.961961961961961975e+01\\n', '1.971971971971971982e+01\\n', '1.981981981981981988e+01\\n', '1.991991991991991995e+01\\n', '2.002002002002002001e+01\\n', '2.012012012012012008e+01\\n', '2.022022022022022014e+01\\n', '2.032032032032032021e+01\\n', '2.042042042042042027e+01\\n', '2.052052052052052034e+01\\n', '2.062062062062062040e+01\\n', '2.072072072072072046e+01\\n', '2.082082082082082053e+01\\n', '2.092092092092092059e+01\\n', '2.102102102102102066e+01\\n', '2.112112112112112072e+01\\n', '2.122122122122122079e+01\\n', '2.132132132132132085e+01\\n', '2.142142142142142447e+01\\n', '2.152152152152152453e+01\\n', '2.162162162162162460e+01\\n', '2.172172172172172466e+01\\n', '2.182182182182182473e+01\\n', '2.192192192192192479e+01\\n', '2.202202202202202486e+01\\n', '2.212212212212212492e+01\\n', '2.222222222222222499e+01\\n', '2.232232232232232505e+01\\n', '2.242242242242242511e+01\\n', '2.252252252252252518e+01\\n', '2.262262262262262524e+01\\n', '2.272272272272272531e+01\\n', '2.282282282282282537e+01\\n', '2.292292292292292544e+01\\n', '2.302302302302302550e+01\\n', '2.312312312312312557e+01\\n', '2.322322322322322563e+01\\n', '2.332332332332332570e+01\\n', '2.342342342342342576e+01\\n', '2.352352352352352582e+01\\n', '2.362362362362362589e+01\\n', '2.372372372372372595e+01\\n', '2.382382382382382602e+01\\n', '2.392392392392392608e+01\\n', '2.402402402402402615e+01\\n', '2.412412412412412621e+01\\n', '2.422422422422422628e+01\\n', '2.432432432432432634e+01\\n', '2.442442442442442641e+01\\n', '2.452452452452452647e+01\\n', '2.462462462462462653e+01\\n', '2.472472472472472660e+01\\n', '2.482482482482482666e+01\\n', '2.492492492492492673e+01\\n', '2.502502502502502679e+01\\n', '2.512512512512512686e+01\\n', '2.522522522522522692e+01\\n', '2.532532532532532699e+01\\n', '2.542542542542542705e+01\\n', '2.552552552552552712e+01\\n', '2.562562562562562718e+01\\n', '2.572572572572572724e+01\\n', '2.582582582582582731e+01\\n', '2.592592592592592737e+01\\n', '2.602602602602602744e+01\\n', '2.612612612612612750e+01\\n', '2.622622622622622757e+01\\n', '2.632632632632632763e+01\\n', '2.642642642642642770e+01\\n', '2.652652652652652776e+01\\n', '2.662662662662662783e+01\\n', '2.672672672672672789e+01\\n', '2.682682682682682795e+01\\n', '2.692692692692692802e+01\\n', '2.702702702702702808e+01\\n', '2.712712712712712815e+01\\n', '2.722722722722722821e+01\\n', '2.732732732732732828e+01\\n', '2.742742742742742834e+01\\n', '2.752752752752752841e+01\\n', '2.762762762762762847e+01\\n', '2.772772772772772854e+01\\n', '2.782782782782782860e+01\\n', '2.792792792792792866e+01\\n', '2.802802802802802873e+01\\n', '2.812812812812812879e+01\\n', '2.822822822822822886e+01\\n', '2.832832832832832892e+01\\n', '2.842842842842842899e+01\\n', '2.852852852852852905e+01\\n', '2.862862862862862912e+01\\n', '2.872872872872872918e+01\\n', '2.882882882882882924e+01\\n', '2.892892892892892931e+01\\n', '2.902902902902902937e+01\\n', '2.912912912912912944e+01\\n', '2.922922922922922950e+01\\n', '2.932932932932932957e+01\\n', '2.942942942942942963e+01\\n', '2.952952952952952970e+01\\n', '2.962962962962962976e+01\\n', '2.972972972972972983e+01\\n', '2.982982982982982989e+01\\n', '2.992992992992993351e+01\\n', '3.003003003003003357e+01\\n', '3.013013013013013364e+01\\n', '3.023023023023023370e+01\\n', '3.033033033033033377e+01\\n', '3.043043043043043383e+01\\n', '3.053053053053053389e+01\\n', '3.063063063063063396e+01\\n', '3.073073073073073402e+01\\n', '3.083083083083083409e+01\\n', '3.093093093093093415e+01\\n', '3.103103103103103422e+01\\n', '3.113113113113113428e+01\\n', '3.123123123123123435e+01\\n', '3.133133133133133441e+01\\n', '3.143143143143143448e+01\\n', '3.153153153153153454e+01\\n', '3.163163163163163460e+01\\n', '3.173173173173173467e+01\\n', '3.183183183183183473e+01\\n', '3.193193193193193480e+01\\n', '3.203203203203203486e+01\\n', '3.213213213213213493e+01\\n', '3.223223223223223499e+01\\n', '3.233233233233233506e+01\\n', '3.243243243243243512e+01\\n', '3.253253253253253519e+01\\n', '3.263263263263263525e+01\\n', '3.273273273273273531e+01\\n', '3.283283283283283538e+01\\n', '3.293293293293293544e+01\\n', '3.303303303303303551e+01\\n', '3.313313313313313557e+01\\n', '3.323323323323323564e+01\\n', '3.333333333333333570e+01\\n', '3.343343343343343577e+01\\n', '3.353353353353353583e+01\\n', '3.363363363363363590e+01\\n', '3.373373373373373596e+01\\n', '3.383383383383383602e+01\\n', '3.393393393393393609e+01\\n', '3.403403403403403615e+01\\n', '3.413413413413413622e+01\\n', '3.423423423423423628e+01\\n', '3.433433433433433635e+01\\n', '3.443443443443443641e+01\\n', '3.453453453453453648e+01\\n', '3.463463463463463654e+01\\n', '3.473473473473473661e+01\\n', '3.483483483483483667e+01\\n', '3.493493493493493673e+01\\n', '3.503503503503503680e+01\\n', '3.513513513513513686e+01\\n', '3.523523523523523693e+01\\n', '3.533533533533533699e+01\\n', '3.543543543543543706e+01\\n', '3.553553553553553712e+01\\n', '3.563563563563563719e+01\\n', '3.573573573573573725e+01\\n', '3.583583583583583732e+01\\n', '3.593593593593593738e+01\\n', '3.603603603603603744e+01\\n', '3.613613613613613751e+01\\n', '3.623623623623623757e+01\\n', '3.633633633633633764e+01\\n', '3.643643643643643770e+01\\n', '3.653653653653653777e+01\\n', '3.663663663663663783e+01\\n', '3.673673673673673790e+01\\n', '3.683683683683683796e+01\\n', '3.693693693693693803e+01\\n', '3.703703703703703809e+01\\n', '3.713713713713713815e+01\\n', '3.723723723723723822e+01\\n', '3.733733733733733828e+01\\n', '3.743743743743743835e+01\\n', '3.753753753753753841e+01\\n', '3.763763763763763848e+01\\n', '3.773773773773773854e+01\\n', '3.783783783783783861e+01\\n', '3.793793793793793867e+01\\n', '3.803803803803803874e+01\\n', '3.813813813813813880e+01\\n', '3.823823823823823886e+01\\n', '3.833833833833833893e+01\\n', '3.843843843843843899e+01\\n', '3.853853853853853906e+01\\n', '3.863863863863863912e+01\\n', '3.873873873873873919e+01\\n', '3.883883883883883925e+01\\n', '3.893893893893893932e+01\\n', '3.903903903903903938e+01\\n', '3.913913913913913944e+01\\n', '3.923923923923923951e+01\\n', '3.933933933933933957e+01\\n', '3.943943943943943964e+01\\n', '3.953953953953953970e+01\\n', '3.963963963963963977e+01\\n', '3.973973973973973983e+01\\n', '3.983983983983983990e+01\\n', '3.993993993993993996e+01\\n', '4.004004004004004003e+01\\n', '4.014014014014014009e+01\\n', '4.024024024024024015e+01\\n', '4.034034034034034022e+01\\n', '4.044044044044044028e+01\\n', '4.054054054054054035e+01\\n', '4.064064064064064041e+01\\n', '4.074074074074074048e+01\\n', '4.084084084084084054e+01\\n', '4.094094094094094061e+01\\n', '4.104104104104104067e+01\\n', '4.114114114114114074e+01\\n', '4.124124124124124080e+01\\n', '4.134134134134134086e+01\\n', '4.144144144144144093e+01\\n', '4.154154154154154099e+01\\n', '4.164164164164164106e+01\\n', '4.174174174174174112e+01\\n', '4.184184184184184119e+01\\n', '4.194194194194194125e+01\\n', '4.204204204204204132e+01\\n', '4.214214214214214138e+01\\n', '4.224224224224224145e+01\\n', '4.234234234234234151e+01\\n', '4.244244244244244157e+01\\n', '4.254254254254254164e+01\\n', '4.264264264264264170e+01\\n', '4.274274274274274887e+01\\n', '4.284284284284284894e+01\\n', '4.294294294294294900e+01\\n', '4.304304304304304907e+01\\n', '4.314314314314314913e+01\\n', '4.324324324324324920e+01\\n', '4.334334334334334926e+01\\n', '4.344344344344344933e+01\\n', '4.354354354354354939e+01\\n', '4.364364364364364945e+01\\n', '4.374374374374374952e+01\\n', '4.384384384384384958e+01\\n', '4.394394394394394965e+01\\n', '4.404404404404404971e+01\\n', '4.414414414414414978e+01\\n', '4.424424424424424984e+01\\n', '4.434434434434434991e+01\\n', '4.444444444444444997e+01\\n', '4.454454454454455004e+01\\n', '4.464464464464465010e+01\\n', '4.474474474474475016e+01\\n', '4.484484484484485023e+01\\n', '4.494494494494495029e+01\\n', '4.504504504504505036e+01\\n', '4.514514514514515042e+01\\n', '4.524524524524525049e+01\\n', '4.534534534534535055e+01\\n', '4.544544544544545062e+01\\n', '4.554554554554555068e+01\\n', '4.564564564564565075e+01\\n', '4.574574574574575081e+01\\n', '4.584584584584585087e+01\\n', '4.594594594594595094e+01\\n', '4.604604604604605100e+01\\n', '4.614614614614615107e+01\\n', '4.624624624624625113e+01\\n', '4.634634634634635120e+01\\n', '4.644644644644645126e+01\\n', '4.654654654654655133e+01\\n', '4.664664664664665139e+01\\n', '4.674674674674675146e+01\\n', '4.684684684684685152e+01\\n', '4.694694694694695158e+01\\n', '4.704704704704705165e+01\\n', '4.714714714714715171e+01\\n', '4.724724724724725178e+01\\n', '4.734734734734735184e+01\\n', '4.744744744744745191e+01\\n', '4.754754754754755197e+01\\n', '4.764764764764765204e+01\\n', '4.774774774774775210e+01\\n', '4.784784784784785217e+01\\n', '4.794794794794795223e+01\\n', '4.804804804804805229e+01\\n', '4.814814814814815236e+01\\n', '4.824824824824825242e+01\\n', '4.834834834834835249e+01\\n', '4.844844844844845255e+01\\n', '4.854854854854855262e+01\\n', '4.864864864864865268e+01\\n', '4.874874874874875275e+01\\n', '4.884884884884885281e+01\\n', '4.894894894894895288e+01\\n', '4.904904904904905294e+01\\n', '4.914914914914915300e+01\\n', '4.924924924924925307e+01\\n', '4.934934934934935313e+01\\n', '4.944944944944945320e+01\\n', '4.954954954954955326e+01\\n', '4.964964964964965333e+01\\n', '4.974974974974975339e+01\\n', '4.984984984984985346e+01\\n', '4.994994994994995352e+01\\n', '5.005005005005005358e+01\\n', '5.015015015015015365e+01\\n', '5.025025025025025371e+01\\n', '5.035035035035035378e+01\\n', '5.045045045045045384e+01\\n', '5.055055055055055391e+01\\n', '5.065065065065065397e+01\\n', '5.075075075075075404e+01\\n', '5.085085085085085410e+01\\n', '5.095095095095095417e+01\\n', '5.105105105105105423e+01\\n', '5.115115115115115429e+01\\n', '5.125125125125125436e+01\\n', '5.135135135135135442e+01\\n', '5.145145145145145449e+01\\n', '5.155155155155155455e+01\\n', '5.165165165165165462e+01\\n', '5.175175175175175468e+01\\n', '5.185185185185185475e+01\\n', '5.195195195195195481e+01\\n', '5.205205205205205488e+01\\n', '5.215215215215215494e+01\\n', '5.225225225225225500e+01\\n', '5.235235235235235507e+01\\n', '5.245245245245245513e+01\\n', '5.255255255255255520e+01\\n', '5.265265265265265526e+01\\n', '5.275275275275275533e+01\\n', '5.285285285285285539e+01\\n', '5.295295295295295546e+01\\n', '5.305305305305305552e+01\\n', '5.315315315315315559e+01\\n', '5.325325325325325565e+01\\n', '5.335335335335335571e+01\\n', '5.345345345345345578e+01\\n', '5.355355355355355584e+01\\n', '5.365365365365365591e+01\\n', '5.375375375375375597e+01\\n', '5.385385385385385604e+01\\n', '5.395395395395395610e+01\\n', '5.405405405405405617e+01\\n', '5.415415415415415623e+01\\n', '5.425425425425425630e+01\\n', '5.435435435435435636e+01\\n', '5.445445445445445642e+01\\n', '5.455455455455455649e+01\\n', '5.465465465465465655e+01\\n', '5.475475475475475662e+01\\n', '5.485485485485485668e+01\\n', '5.495495495495495675e+01\\n', '5.505505505505505681e+01\\n', '5.515515515515515688e+01\\n', '5.525525525525525694e+01\\n', '5.535535535535535701e+01\\n', '5.545545545545545707e+01\\n', '5.555555555555555713e+01\\n', '5.565565565565565720e+01\\n', '5.575575575575575726e+01\\n', '5.585585585585585733e+01\\n', '5.595595595595595739e+01\\n', '5.605605605605605746e+01\\n', '5.615615615615615752e+01\\n', '5.625625625625625759e+01\\n', '5.635635635635635765e+01\\n', '5.645645645645645772e+01\\n', '5.655655655655655778e+01\\n', '5.665665665665665784e+01\\n', '5.675675675675675791e+01\\n', '5.685685685685685797e+01\\n', '5.695695695695695804e+01\\n', '5.705705705705705810e+01\\n', '5.715715715715715817e+01\\n', '5.725725725725725823e+01\\n', '5.735735735735735830e+01\\n', '5.745745745745745836e+01\\n', '5.755755755755755843e+01\\n', '5.765765765765765849e+01\\n', '5.775775775775775855e+01\\n', '5.785785785785785862e+01\\n', '5.795795795795795868e+01\\n', '5.805805805805805875e+01\\n', '5.815815815815815881e+01\\n', '5.825825825825825888e+01\\n', '5.835835835835835894e+01\\n', '5.845845845845845901e+01\\n', '5.855855855855855907e+01\\n', '5.865865865865865914e+01\\n', '5.875875875875875920e+01\\n', '5.885885885885885926e+01\\n', '5.895895895895895933e+01\\n', '5.905905905905905939e+01\\n', '5.915915915915915946e+01\\n', '5.925925925925925952e+01\\n', '5.935935935935935959e+01\\n', '5.945945945945945965e+01\\n', '5.955955955955955972e+01\\n', '5.965965965965965978e+01\\n', '5.975975975975975985e+01\\n', '5.985985985985986702e+01\\n', '5.995995995995996708e+01\\n', '6.006006006006006714e+01\\n', '6.016016016016016721e+01\\n', '6.026026026026026727e+01\\n', '6.036036036036036734e+01\\n', '6.046046046046046740e+01\\n', '6.056056056056056747e+01\\n', '6.066066066066066753e+01\\n', '6.076076076076076760e+01\\n', '6.086086086086086766e+01\\n', '6.096096096096096772e+01\\n', '6.106106106106106779e+01\\n', '6.116116116116116785e+01\\n', '6.126126126126126792e+01\\n', '6.136136136136136798e+01\\n', '6.146146146146146805e+01\\n', '6.156156156156156811e+01\\n', '6.166166166166166818e+01\\n', '6.176176176176176824e+01\\n', '6.186186186186186831e+01\\n', '6.196196196196196837e+01\\n', '6.206206206206206843e+01\\n', '6.216216216216216850e+01\\n', '6.226226226226226856e+01\\n', '6.236236236236236863e+01\\n', '6.246246246246246869e+01\\n', '6.256256256256256876e+01\\n', '6.266266266266266882e+01\\n', '6.276276276276276889e+01\\n', '6.286286286286286895e+01\\n', '6.296296296296296902e+01\\n', '6.306306306306306908e+01\\n', '6.316316316316316914e+01\\n', '6.326326326326326921e+01\\n', '6.336336336336336927e+01\\n', '6.346346346346346934e+01\\n', '6.356356356356356940e+01\\n', '6.366366366366366947e+01\\n', '6.376376376376376953e+01\\n', '6.386386386386386960e+01\\n', '6.396396396396396966e+01\\n', '6.406406406406406973e+01\\n', '6.416416416416416268e+01\\n', '6.426426426426426985e+01\\n', '6.436436436436436281e+01\\n', '6.446446446446446998e+01\\n', '6.456456456456456294e+01\\n', '6.466466466466467011e+01\\n', '6.476476476476476307e+01\\n', '6.486486486486487024e+01\\n', '6.496496496496496320e+01\\n', '6.506506506506507037e+01\\n', '6.516516516516516333e+01\\n', '6.526526526526527050e+01\\n', '6.536536536536536346e+01\\n', '6.546546546546547063e+01\\n', '6.556556556556556359e+01\\n', '6.566566566566567076e+01\\n', '6.576576576576576372e+01\\n', '6.586586586586587089e+01\\n', '6.596596596596596385e+01\\n', '6.606606606606607102e+01\\n', '6.616616616616616398e+01\\n', '6.626626626626627115e+01\\n', '6.636636636636636410e+01\\n', '6.646646646646647127e+01\\n', '6.656656656656656423e+01\\n', '6.666666666666667140e+01\\n', '6.676676676676676436e+01\\n', '6.686686686686687153e+01\\n', '6.696696696696696449e+01\\n', '6.706706706706707166e+01\\n', '6.716716716716716462e+01\\n', '6.726726726726727179e+01\\n', '6.736736736736736475e+01\\n', '6.746746746746747192e+01\\n', '6.756756756756756488e+01\\n', '6.766766766766767205e+01\\n', '6.776776776776776501e+01\\n', '6.786786786786787218e+01\\n', '6.796796796796796514e+01\\n', '6.806806806806807231e+01\\n', '6.816816816816816527e+01\\n', '6.826826826826827244e+01\\n', '6.836836836836837961e+01\\n', '6.846846846846847257e+01\\n', '6.856856856856857974e+01\\n', '6.866866866866867269e+01\\n', '6.876876876876877986e+01\\n', '6.886886886886887282e+01\\n', '6.896896896896897999e+01\\n', '6.906906906906907295e+01\\n', '6.916916916916918012e+01\\n', '6.926926926926927308e+01\\n', '6.936936936936938025e+01\\n', '6.946946946946947321e+01\\n', '6.956956956956958038e+01\\n', '6.966966966966967334e+01\\n', '6.976976976976978051e+01\\n', '6.986986986986987347e+01\\n', '6.996996996996998064e+01\\n', '7.007007007007007360e+01\\n', '7.017017017017018077e+01\\n', '7.027027027027027373e+01\\n', '7.037037037037038090e+01\\n', '7.047047047047047386e+01\\n', '7.057057057057058103e+01\\n', '7.067067067067067399e+01\\n', '7.077077077077078116e+01\\n', '7.087087087087087411e+01\\n', '7.097097097097098128e+01\\n', '7.107107107107107424e+01\\n', '7.117117117117118141e+01\\n', '7.127127127127127437e+01\\n', '7.137137137137138154e+01\\n', '7.147147147147147450e+01\\n', '7.157157157157158167e+01\\n', '7.167167167167167463e+01\\n', '7.177177177177178180e+01\\n', '7.187187187187187476e+01\\n', '7.197197197197198193e+01\\n', '7.207207207207207489e+01\\n', '7.217217217217218206e+01\\n', '7.227227227227227502e+01\\n', '7.237237237237238219e+01\\n', '7.247247247247247515e+01\\n', '7.257257257257258232e+01\\n', '7.267267267267267528e+01\\n', '7.277277277277278245e+01\\n', '7.287287287287287540e+01\\n', '7.297297297297298257e+01\\n', '7.307307307307307553e+01\\n', '7.317317317317318270e+01\\n', '7.327327327327327566e+01\\n', '7.337337337337338283e+01\\n', '7.347347347347347579e+01\\n', '7.357357357357358296e+01\\n', '7.367367367367367592e+01\\n', '7.377377377377378309e+01\\n', '7.387387387387387605e+01\\n', '7.397397397397398322e+01\\n', '7.407407407407407618e+01\\n', '7.417417417417418335e+01\\n', '7.427427427427427631e+01\\n', '7.437437437437438348e+01\\n', '7.447447447447447644e+01\\n', '7.457457457457458361e+01\\n', '7.467467467467467657e+01\\n', '7.477477477477478374e+01\\n', '7.487487487487487670e+01\\n', '7.497497497497498387e+01\\n', '7.507507507507507682e+01\\n', '7.517517517517518399e+01\\n', '7.527527527527527695e+01\\n', '7.537537537537538412e+01\\n', '7.547547547547547708e+01\\n', '7.557557557557558425e+01\\n', '7.567567567567567721e+01\\n', '7.577577577577578438e+01\\n', '7.587587587587587734e+01\\n', '7.597597597597598451e+01\\n', '7.607607607607607747e+01\\n', '7.617617617617618464e+01\\n', '7.627627627627627760e+01\\n', '7.637637637637638477e+01\\n', '7.647647647647647773e+01\\n', '7.657657657657658490e+01\\n', '7.667667667667667786e+01\\n', '7.677677677677678503e+01\\n', '7.687687687687687799e+01\\n', '7.697697697697698516e+01\\n', '7.707707707707707812e+01\\n', '7.717717717717718529e+01\\n', '7.727727727727727824e+01\\n', '7.737737737737738541e+01\\n', '7.747747747747747837e+01\\n', '7.757757757757758554e+01\\n', '7.767767767767767850e+01\\n', '7.777777777777778567e+01\\n', '7.787787787787787863e+01\\n', '7.797797797797798580e+01\\n', '7.807807807807807876e+01\\n', '7.817817817817818593e+01\\n', '7.827827827827827889e+01\\n', '7.837837837837838606e+01\\n', '7.847847847847847902e+01\\n', '7.857857857857858619e+01\\n', '7.867867867867867915e+01\\n', '7.877877877877878632e+01\\n', '7.887887887887887928e+01\\n', '7.897897897897898645e+01\\n', '7.907907907907907941e+01\\n', '7.917917917917918658e+01\\n', '7.927927927927927954e+01\\n', '7.937937937937938671e+01\\n', '7.947947947947947966e+01\\n', '7.957957957957958683e+01\\n', '7.967967967967967979e+01\\n', '7.977977977977978696e+01\\n', '7.987987987987987992e+01\\n', '7.997997997997998709e+01\\n', '8.008008008008008005e+01\\n', '8.018018018018018722e+01\\n', '8.028028028028028018e+01\\n', '8.038038038038038735e+01\\n', '8.048048048048048031e+01\\n', '8.058058058058058748e+01\\n', '8.068068068068068044e+01\\n', '8.078078078078078761e+01\\n', '8.088088088088088057e+01\\n', '8.098098098098098774e+01\\n', '8.108108108108108070e+01\\n', '8.118118118118118787e+01\\n', '8.128128128128128083e+01\\n', '8.138138138138138800e+01\\n', '8.148148148148148096e+01\\n', '8.158158158158158813e+01\\n', '8.168168168168168108e+01\\n', '8.178178178178178825e+01\\n', '8.188188188188188121e+01\\n', '8.198198198198198838e+01\\n', '8.208208208208208134e+01\\n', '8.218218218218218851e+01\\n', '8.228228228228228147e+01\\n', '8.238238238238238864e+01\\n', '8.248248248248248160e+01\\n', '8.258258258258258877e+01\\n', '8.268268268268268173e+01\\n', '8.278278278278278890e+01\\n', '8.288288288288288186e+01\\n', '8.298298298298298903e+01\\n', '8.308308308308308199e+01\\n', '8.318318318318318916e+01\\n', '8.328328328328328212e+01\\n', '8.338338338338338929e+01\\n', '8.348348348348348225e+01\\n', '8.358358358358358942e+01\\n', '8.368368368368368237e+01\\n', '8.378378378378378954e+01\\n', '8.388388388388388250e+01\\n', '8.398398398398398967e+01\\n', '8.408408408408408263e+01\\n', '8.418418418418418980e+01\\n', '8.428428428428428276e+01\\n', '8.438438438438438993e+01\\n', '8.448448448448448289e+01\\n', '8.458458458458459006e+01\\n', '8.468468468468468302e+01\\n', '8.478478478478479019e+01\\n', '8.488488488488488315e+01\\n', '8.498498498498499032e+01\\n', '8.508508508508508328e+01\\n', '8.518518518518519045e+01\\n', '8.528528528528528341e+01\\n', '8.538538538538539058e+01\\n', '8.548548548548549775e+01\\n', '8.558558558558559071e+01\\n', '8.568568568568569788e+01\\n', '8.578578578578579084e+01\\n', '8.588588588588589801e+01\\n', '8.598598598598599096e+01\\n', '8.608608608608609813e+01\\n', '8.618618618618619109e+01\\n', '8.628628628628629826e+01\\n', '8.638638638638639122e+01\\n', '8.648648648648649839e+01\\n', '8.658658658658659135e+01\\n', '8.668668668668669852e+01\\n', '8.678678678678679148e+01\\n', '8.688688688688689865e+01\\n', '8.698698698698699161e+01\\n', '8.708708708708709878e+01\\n', '8.718718718718719174e+01\\n', '8.728728728728729891e+01\\n', '8.738738738738739187e+01\\n', '8.748748748748749904e+01\\n', '8.758758758758759200e+01\\n', '8.768768768768769917e+01\\n', '8.778778778778779213e+01\\n', '8.788788788788789930e+01\\n', '8.798798798798799226e+01\\n', '8.808808808808809943e+01\\n', '8.818818818818819238e+01\\n', '8.828828828828829955e+01\\n', '8.838838838838839251e+01\\n', '8.848848848848849968e+01\\n', '8.858858858858859264e+01\\n', '8.868868868868869981e+01\\n', '8.878878878878879277e+01\\n', '8.888888888888889994e+01\\n', '8.898898898898899290e+01\\n', '8.908908908908910007e+01\\n', '8.918918918918919303e+01\\n', '8.928928928928930020e+01\\n', '8.938938938938939316e+01\\n', '8.948948948948950033e+01\\n', '8.958958958958959329e+01\\n', '8.968968968968970046e+01\\n', '8.978978978978979342e+01\\n', '8.988988988988990059e+01\\n', '8.998998998998999355e+01\\n', '9.009009009009010072e+01\\n', '9.019019019019019368e+01\\n', '9.029029029029030085e+01\\n', '9.039039039039039380e+01\\n', '9.049049049049050097e+01\\n', '9.059059059059059393e+01\\n', '9.069069069069070110e+01\\n', '9.079079079079079406e+01\\n', '9.089089089089090123e+01\\n', '9.099099099099099419e+01\\n', '9.109109109109110136e+01\\n', '9.119119119119119432e+01\\n', '9.129129129129130149e+01\\n', '9.139139139139139445e+01\\n', '9.149149149149150162e+01\\n', '9.159159159159159458e+01\\n', '9.169169169169170175e+01\\n', '9.179179179179179471e+01\\n', '9.189189189189190188e+01\\n', '9.199199199199199484e+01\\n', '9.209209209209210201e+01\\n', '9.219219219219219497e+01\\n', '9.229229229229230214e+01\\n', '9.239239239239239510e+01\\n', '9.249249249249250227e+01\\n', '9.259259259259259522e+01\\n', '9.269269269269270239e+01\\n', '9.279279279279279535e+01\\n', '9.289289289289290252e+01\\n', '9.299299299299299548e+01\\n', '9.309309309309310265e+01\\n', '9.319319319319319561e+01\\n', '9.329329329329330278e+01\\n', '9.339339339339339574e+01\\n', '9.349349349349350291e+01\\n', '9.359359359359359587e+01\\n', '9.369369369369370304e+01\\n', '9.379379379379379600e+01\\n', '9.389389389389390317e+01\\n', '9.399399399399399613e+01\\n', '9.409409409409410330e+01\\n', '9.419419419419419626e+01\\n', '9.429429429429430343e+01\\n', '9.439439439439439639e+01\\n', '9.449449449449450356e+01\\n', '9.459459459459459651e+01\\n', '9.469469469469470368e+01\\n', '9.479479479479479664e+01\\n', '9.489489489489490381e+01\\n', '9.499499499499499677e+01\\n', '9.509509509509510394e+01\\n', '9.519519519519519690e+01\\n', '9.529529529529530407e+01\\n', '9.539539539539539703e+01\\n', '9.549549549549550420e+01\\n', '9.559559559559559716e+01\\n', '9.569569569569570433e+01\\n', '9.579579579579579729e+01\\n', '9.589589589589590446e+01\\n', '9.599599599599599742e+01\\n', '9.609609609609610459e+01\\n', '9.619619619619619755e+01\\n', '9.629629629629630472e+01\\n', '9.639639639639639768e+01\\n', '9.649649649649650485e+01\\n', '9.659659659659659781e+01\\n', '9.669669669669670498e+01\\n', '9.679679679679679793e+01\\n', '9.689689689689690510e+01\\n', '9.699699699699699806e+01\\n', '9.709709709709710523e+01\\n', '9.719719719719719819e+01\\n', '9.729729729729730536e+01\\n', '9.739739739739739832e+01\\n', '9.749749749749750549e+01\\n', '9.759759759759759845e+01\\n', '9.769769769769770562e+01\\n', '9.779779779779779858e+01\\n', '9.789789789789790575e+01\\n', '9.799799799799799871e+01\\n', '9.809809809809810588e+01\\n', '9.819819819819819884e+01\\n', '9.829829829829830601e+01\\n', '9.839839839839839897e+01\\n', '9.849849849849850614e+01\\n', '9.859859859859859910e+01\\n', '9.869869869869870627e+01\\n', '9.879879879879879923e+01\\n', '9.889889889889890640e+01\\n', '9.899899899899899935e+01\\n', '9.909909909909910652e+01\\n', '9.919919919919919948e+01\\n', '9.929929929929930665e+01\\n', '9.939939939939939961e+01\\n', '9.949949949949950678e+01\\n', '9.959959959959959974e+01\\n', '9.969969969969970691e+01\\n', '9.979979979979979987e+01\\n', '9.989989989989990704e+01\\n', '1.000000000000000000e+02\\n']\n"
     ]
    }
   ],
   "source": [
    "with open(\"myfile.csv\", \"r\") as f:\n",
    "    print(f.readlines())"
   ]
  },
  {
   "cell_type": "code",
   "execution_count": 6,
   "id": "c627377269c2b38e",
   "metadata": {
    "ExecuteTime": {
     "end_time": "2025-03-04T12:41:14.873149Z",
     "start_time": "2025-03-04T12:41:14.866075Z"
    }
   },
   "outputs": [],
   "source": [
    "np.savetxt(\"myfile.csv\", p) # 使用numpy的函数去保存"
   ]
  },
  {
   "cell_type": "code",
   "execution_count": 15,
   "id": "dc6e514b6a671e63",
   "metadata": {
    "ExecuteTime": {
     "end_time": "2025-03-04T12:44:31.178421Z",
     "start_time": "2025-03-04T12:44:31.164710Z"
    }
   },
   "outputs": [
    {
     "data": {
      "text/plain": [
       "array([[0.39566592, 0.30578474, 0.72478319, 0.56737765, 0.71174797],\n",
       "       [0.71901466, 0.52007591, 0.98461425, 0.35537691, 0.49646789],\n",
       "       [0.01700372, 0.43278534, 0.77523107, 0.17467411, 0.80058915]])"
      ]
     },
     "execution_count": 15,
     "metadata": {},
     "output_type": "execute_result"
    }
   ],
   "source": [
    "np.random.rand(3, 5)"
   ]
  },
  {
   "cell_type": "code",
   "execution_count": 16,
   "id": "5ed0e19df467bbbe",
   "metadata": {
    "ExecuteTime": {
     "end_time": "2025-03-04T12:45:15.820007Z",
     "start_time": "2025-03-04T12:45:15.814711Z"
    }
   },
   "outputs": [],
   "source": [
    "np.savetxt(\"random.csv\", np.random.rand(3, 5))"
   ]
  },
  {
   "cell_type": "code",
   "execution_count": 17,
   "id": "a9397cfea28d7a81",
   "metadata": {
    "ExecuteTime": {
     "end_time": "2025-03-04T12:48:54.313645Z",
     "start_time": "2025-03-04T12:48:54.300852Z"
    }
   },
   "outputs": [],
   "source": [
    "import pandas as pd\n"
   ]
  },
  {
   "cell_type": "code",
   "execution_count": 19,
   "id": "e77c163fb7b81e53",
   "metadata": {
    "ExecuteTime": {
     "end_time": "2025-03-04T12:49:26.033214Z",
     "start_time": "2025-03-04T12:49:26.011765Z"
    }
   },
   "outputs": [
    {
     "data": {
      "text/html": [
       "<div>\n",
       "<style scoped>\n",
       "    .dataframe tbody tr th:only-of-type {\n",
       "        vertical-align: middle;\n",
       "    }\n",
       "\n",
       "    .dataframe tbody tr th {\n",
       "        vertical-align: top;\n",
       "    }\n",
       "\n",
       "    .dataframe thead th {\n",
       "        text-align: right;\n",
       "    }\n",
       "</style>\n",
       "<table border=\"1\" class=\"dataframe\">\n",
       "  <thead>\n",
       "    <tr style=\"text-align: right;\">\n",
       "      <th></th>\n",
       "      <th>7.727756943268290213e-01 9.598366499286145048e-01 7.171528638178664705e-01 1.251977744825549799e-01 1.509263561770476381e-01</th>\n",
       "    </tr>\n",
       "  </thead>\n",
       "  <tbody>\n",
       "    <tr>\n",
       "      <th>0</th>\n",
       "      <td>7.869320843045179981e-02 3.720482645723267590e-01 8.373025720898514823e-01 5.372257277107344020e-01 4.366882327898091720e-01</td>\n",
       "    </tr>\n",
       "    <tr>\n",
       "      <th>1</th>\n",
       "      <td>6.834929874257558158e-01 6.931824323036472890e-01 4.697727162014736502e-01 9.313644368632342241e-01 6.042699544740758322e-01</td>\n",
       "    </tr>\n",
       "  </tbody>\n",
       "</table>\n",
       "</div>"
      ],
      "text/plain": [
       "   7.727756943268290213e-01 9.598366499286145048e-01 7.171528638178664705e-01 1.251977744825549799e-01 1.509263561770476381e-01\n",
       "0  7.869320843045179981e-02 3.720482645723267590e-01 8.373025720898514823e-01 5.372257277107344020e-01 4.366882327898091720e-01\n",
       "1  6.834929874257558158e-01 6.931824323036472890e-01 4.697727162014736502e-01 9.313644368632342241e-01 6.042699544740758322e-01"
      ]
     },
     "execution_count": 19,
     "metadata": {},
     "output_type": "execute_result"
    }
   ],
   "source": [
    "pd.read_csv(\"random.csv\")"
   ]
  },
  {
   "cell_type": "code",
   "execution_count": 6,
   "id": "ab8e7e71c34a0902",
   "metadata": {
    "ExecuteTime": {
     "end_time": "2025-03-04T12:55:05.083708Z",
     "start_time": "2025-03-04T12:55:05.075027Z"
    }
   },
   "outputs": [],
   "source": [
    "from ipywidgets import interact"
   ]
  },
  {
   "cell_type": "code",
   "execution_count": 9,
   "id": "d2dcfe64fc1bca9a",
   "metadata": {
    "ExecuteTime": {
     "end_time": "2025-03-04T12:59:59.765229Z",
     "start_time": "2025-03-04T12:59:59.492342Z"
    }
   },
   "outputs": [
    {
     "data": {
      "application/vnd.jupyter.widget-view+json": {
       "model_id": "4c98c93e09c842b4a48ba09680e27d47",
       "version_major": 2,
       "version_minor": 0
      },
      "text/plain": [
       "interactive(children=(IntSlider(value=10, description='m', max=30, min=-10), IntSlider(value=10, description='…"
      ]
     },
     "metadata": {},
     "output_type": "display_data"
    }
   ],
   "source": [
    "import numpy as np\n",
    "import matplotlib.pyplot as plt\n",
    "import mplhep as mpl\n",
    "\n",
    "mpl.style.use(\"ALICE\")\n",
    "@interact(m=10, b=10)\n",
    "def my_interact(m, b):\n",
    "    x = np.linspace(0, 10, 100)\n",
    "    plt.plot(x, m * np.sin(b * x), \"r-\", label=\"sin\")"
   ]
  },
  {
   "cell_type": "code",
   "execution_count": 1,
   "id": "849d24e9e02fe946",
   "metadata": {
    "ExecuteTime": {
     "end_time": "2025-03-05T03:17:19.979993Z",
     "start_time": "2025-03-05T03:17:19.780830Z"
    }
   },
   "outputs": [],
   "source": [
    "import numpy as np"
   ]
  },
  {
   "cell_type": "code",
   "execution_count": 2,
   "id": "d068443fddce32f2",
   "metadata": {
    "ExecuteTime": {
     "end_time": "2025-03-05T03:17:22.350812Z",
     "start_time": "2025-03-05T03:17:21.884920Z"
    }
   },
   "outputs": [],
   "source": [
    "import matplotlib.pyplot as plt"
   ]
  },
  {
   "cell_type": "code",
   "execution_count": 11,
   "id": "11a88bd184b3b10e",
   "metadata": {
    "ExecuteTime": {
     "end_time": "2025-03-05T03:19:22.128890Z",
     "start_time": "2025-03-05T03:19:22.120868Z"
    }
   },
   "outputs": [],
   "source": [
    "x = np.linspace(0, np.pi / 6, 1000)"
   ]
  },
  {
   "cell_type": "code",
   "execution_count": 12,
   "id": "aa4e780375cbe7b8",
   "metadata": {
    "ExecuteTime": {
     "end_time": "2025-03-05T03:19:22.564553Z",
     "start_time": "2025-03-05T03:19:22.484074Z"
    }
   },
   "outputs": [
    {
     "name": "stderr",
     "output_type": "stream",
     "text": [
      "C:\\Users\\asus\\AppData\\Local\\Temp\\ipykernel_3812\\2566203137.py:1: RuntimeWarning: divide by zero encountered in divide\n",
      "  plt.plot(x, 1 / np.tan(x))\n"
     ]
    },
    {
     "data": {
      "text/plain": [
       "[<matplotlib.lines.Line2D at 0x2b279d67e60>]"
      ]
     },
     "execution_count": 12,
     "metadata": {},
     "output_type": "execute_result"
    },
    {
     "data": {
      "image/png": "[encoded data removed]",
      "text/plain": [
       "<Figure size 640x480 with 1 Axes>"
      ]
     },
     "metadata": {},
     "output_type": "display_data"
    }
   ],
   "source": [
    "plt.plot(x, 1 / np.tan(x))"
   ]
  },
  {
   "cell_type": "code",
   "execution_count": 1,
   "id": "4f2b176b305a3a9f",
   "metadata": {},
   "outputs": [],
   "source": [
    "import numpy as np\n",
    "import XQY_Utils as XQY"
   ]
  },
  {
   "cell_type": "code",
   "execution_count": 2,
   "id": "92ec5dce",
   "metadata": {},
   "outputs": [],
   "source": [
    "beta = XQY.physics_function.PhysicsFunction.calculate_beta(3763, 3753)"
   ]
  },
  {
   "cell_type": "code",
   "execution_count": 3,
   "id": "88f5fb7e",
   "metadata": {},
   "outputs": [
    {
     "data": {
      "text/plain": [
       "0.07285496726527804"
      ]
     },
     "execution_count": 3,
     "metadata": {},
     "output_type": "execute_result"
    }
   ],
   "source": [
    "beta"
   ]
  },
  {
   "cell_type": "code",
   "execution_count": 4,
   "id": "06878b34",
   "metadata": {},
   "outputs": [
    {
     "data": {
      "text/plain": [
       "0.00533616982424359"
      ]
     },
     "execution_count": 4,
     "metadata": {},
     "output_type": "execute_result"
    }
   ],
   "source": [
    "XQY.physics_function.PhysicsFunction.calculate_tmax(beta)"
   ]
  },
  {
   "cell_type": "code",
   "execution_count": 7,
   "id": "ba733917",
   "metadata": {},
   "outputs": [
    {
     "data": {
      "text/plain": [
       "103.96830673359815"
      ]
     },
     "execution_count": 7,
     "metadata": {},
     "output_type": "execute_result"
    }
   ],
   "source": [
    "16 * 8**0.9"
   ]
  },
  {
   "cell_type": "code",
   "execution_count": 8,
   "id": "72227360",
   "metadata": {},
   "outputs": [
    {
     "data": {
      "text/plain": [
       "-343.69533362091585"
      ]
     },
     "execution_count": 8,
     "metadata": {},
     "output_type": "execute_result"
    }
   ],
   "source": [
    "0.3071 * 4 * 0.5 * (1 / 0.073**2) * (np.log(0.0053 / 0.104) - 0.073**2)"
   ]
  },
  {
   "cell_type": "code",
   "execution_count": 9,
   "id": "4b954667",
   "metadata": {},
   "outputs": [
    {
     "data": {
      "text/plain": [
       "332.6"
      ]
     },
     "execution_count": 9,
     "metadata": {},
     "output_type": "execute_result"
    }
   ],
   "source": [
    "0.76 * 329 + 0.24 * 344"
   ]
  },
  {
   "cell_type": "code",
   "execution_count": 10,
   "id": "8e652fc1",
   "metadata": {},
   "outputs": [
    {
     "data": {
      "text/plain": [
       "0.0053289999999999995"
      ]
     },
     "execution_count": 10,
     "metadata": {},
     "output_type": "execute_result"
    }
   ],
   "source": [
    "0.073**2"
   ]
  },
  {
   "cell_type": "code",
   "execution_count": 11,
   "id": "5219711b",
   "metadata": {},
   "outputs": [
    {
     "data": {
      "text/plain": [
       "9.803060746521975"
      ]
     },
     "execution_count": 11,
     "metadata": {},
     "output_type": "execute_result"
    }
   ],
   "source": [
    "0.31* 10**(3/2)"
   ]
  },
  {
   "cell_type": "markdown",
   "id": "4b9954de",
   "metadata": {},
   "source": []
  },
  {
   "cell_type": "markdown",
   "id": "28426015",
   "metadata": {},
   "source": []
  },
  {
   "cell_type": "markdown",
   "id": "0be68a4a",
   "metadata": {},
   "source": []
  },
  {
   "cell_type": "code",
   "execution_count": 1,
   "id": "faa4e57e",
   "metadata": {},
   "outputs": [],
   "source": [
    "import XQY_Utils"
   ]
  },
  {
   "cell_type": "code",
   "execution_count": 2,
   "id": "6a2cbbb5",
   "metadata": {},
   "outputs": [
    {
     "data": {
      "text/plain": [
       "0.9999560068323006"
      ]
     },
     "execution_count": 2,
     "metadata": {},
     "output_type": "execute_result"
    }
   ],
   "source": [
    "XQY_Utils.physics_function.PhysicsFunction.calculate_beta(100, 0.938)"
   ]
  },
  {
   "cell_type": "code",
   "execution_count": 3,
   "id": "2fe6f3b5",
   "metadata": {},
   "outputs": [
    {
     "data": {
      "text/plain": [
       "0.9999999418284942"
      ]
     },
     "execution_count": 3,
     "metadata": {},
     "output_type": "execute_result"
    }
   ],
   "source": [
    "XQY_Utils.physics_function.PhysicsFunction.calculate_beta(2750, 0.938)"
   ]
  },
  {
   "cell_type": "code",
   "execution_count": null,
   "id": "7809717f",
   "metadata": {},
   "outputs": [],
   "source": []
  }
 ],
 "metadata": {
  "kernelspec": {
   "display_name": "Python 3",
   "language": "python",
   "name": "python3"
  },
  "language_info": {
   "codemirror_mode": {
    "name": "ipython",
    "version": 3
   },
   "file_extension": ".py",
   "mimetype": "text/x-python",
   "name": "python",
   "nbconvert_exporter": "python",
   "pygments_lexer": "ipython3",
   "version": "3.8.10"
  }
 },
 "nbformat": 4,
 "nbformat_minor": 5
}
