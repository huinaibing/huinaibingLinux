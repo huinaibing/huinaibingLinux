{
 "cells": [
  {
   "metadata": {
    "ExecuteTime": {
     "end_time": "2025-04-08T12:02:31.833361Z",
     "start_time": "2025-04-08T12:02:31.318045Z"
    }
   },
   "cell_type": "code",
   "source": [
    "import time\n",
    "import numpy as np\n",
    "import matplotlib.pyplot as plt\n",
    "import mplhep as mp\n",
    "from IPython.display import clear_output"
   ],
   "id": "9a41033fee2c205c",
   "outputs": [],
   "execution_count": 1
  },
  {
   "metadata": {
    "ExecuteTime": {
     "end_time": "2025-04-08T12:02:31.839221Z",
     "start_time": "2025-04-08T12:02:31.833361Z"
    }
   },
   "cell_type": "code",
   "source": [
    "class ForwardBackward:\n",
    "    def __init__(self):\n",
    "        mp.style.use('ALICE')\n",
    "        self.x = np.linspace(0, 1, 101)\n",
    "        self.rho0 = np.zeros_like(self.x)\n",
    "        self.rho0[20: 30] = 1\n",
    "        \n",
    "        self.h = 0.01\n",
    "        self.v = 0.5\n",
    "        self.dx = self.x[1] - self.x[0]\n",
    "        \n",
    "        self.rho1 = np.copy(self.rho0) # rho in time n\n",
    "        self.rho2 = np.copy(self.rho0) # rho in time n + 1\n",
    "        \n",
    "    def plot(self):\n",
    "        plt.plot(self.x, self.rho1)\n",
    "        plt.show()\n",
    "        time.sleep(0.1)\n",
    "        clear_output()\n",
    "        \n",
    "    def ftfs(self, step=1000):\n",
    "        for i in range(step):\n",
    "            self.rho2[:-1] = self.rho1[:-1] - self.h * self.v / self.dx * (self.rho1[1:] - self.rho1[:-1]) \n",
    "            \n",
    "            self.rho1 = self.rho2\n",
    "            \n",
    "            self.plot()\n",
    "                \n",
    "    def ftbs(self, step=1000):\n",
    "        for i in range(step):\n",
    "            self.rho2[1:] = self.rho1[1:] - self.h * self.v / self.dx * (self.rho1[1:] - self.rho1[:-1]) \n",
    "            \n",
    "            self.rho1 = self.rho2\n",
    "            self.plot()"
   ],
   "id": "8b194467b8488cda",
   "outputs": [],
   "execution_count": 2
  },
  {
   "metadata": {
    "ExecuteTime": {
     "end_time": "2025-04-08T12:02:31.844499Z",
     "start_time": "2025-04-08T12:02:31.839221Z"
    }
   },
   "cell_type": "code",
   "source": "# ForwardBackward().ftbs()",
   "id": "7b13f317ffab0e90",
   "outputs": [],
   "execution_count": 3
  },
  {
   "metadata": {
    "ExecuteTime": {
     "end_time": "2025-04-08T12:02:31.848373Z",
     "start_time": "2025-04-08T12:02:31.844499Z"
    }
   },
   "cell_type": "code",
   "source": [
    "class Lax(ForwardBackward):\n",
    "    def __init__(self):\n",
    "        super(Lax, self).__init__()\n",
    "        \n",
    "    def evolve(self, step=1000):\n",
    "        for i in range(step):\n",
    "            self.rho2[1:-1] = self.rho1[1:-1] - (self.v * self.h / 2 / self.dx) * (self.rho1[2:] - self.rho1[0:-2]) \\\n",
    "                + (self.v**2 * self.h**2 / 2 / self.dx**2) * (self.rho1[2:] - 2 * self.rho1[1:-1] + self.rho1[0:-2])\n",
    "            \n",
    "            self.rho1 = self.rho2\n",
    "            self.plot()"
   ],
   "id": "3956341d4b71a784",
   "outputs": [],
   "execution_count": 4
  },
  {
   "metadata": {
    "ExecuteTime": {
     "end_time": "2025-04-08T12:02:31.852600Z",
     "start_time": "2025-04-08T12:02:31.848373Z"
    }
   },
   "cell_type": "code",
   "source": "# Lax().evolve()",
   "id": "72819b10ad3d1fbe",
   "outputs": [],
   "execution_count": 5
  },
  {
   "metadata": {
    "ExecuteTime": {
     "end_time": "2025-04-08T12:02:31.856079Z",
     "start_time": "2025-04-08T12:02:31.852600Z"
    }
   },
   "cell_type": "code",
   "source": [
    "class Gauss(Lax):\n",
    "    def __init__(self):\n",
    "        super(Gauss, self).__init__()\n",
    "        self.rho0 = np.exp(-(self.x - 0.5)**2 / 0.01)\n",
    "        \n",
    "        self.rho1 = np.copy(self.rho0)\n",
    "        self.rho2 = np.copy(self.rho0)"
   ],
   "id": "dbefba7dc71c0db",
   "outputs": [],
   "execution_count": 6
  },
  {
   "metadata": {},
   "cell_type": "code",
   "source": "Gauss().evolve()",
   "id": "6ddea7b3422e1c04",
   "execution_count": null,
   "outputs": []
  },
  {
   "metadata": {},
   "cell_type": "markdown",
   "source": [
    "#\n",
    "#\n",
    "#\n"
   ],
   "id": "e8f07301ccabd6a3"
  },
  {
   "metadata": {},
   "cell_type": "code",
   "outputs": [],
   "execution_count": null,
   "source": "",
   "id": "a78a36fe2946cccc"
  }
 ],
 "metadata": {
  "kernelspec": {
   "display_name": "Python 3",
   "language": "python",
   "name": "python3"
  },
  "language_info": {
   "codemirror_mode": {
    "name": "ipython",
    "version": 2
   },
   "file_extension": ".py",
   "mimetype": "text/x-python",
   "name": "python",
   "nbconvert_exporter": "python",
   "pygments_lexer": "ipython2",
   "version": "2.7.6"
  }
 },
 "nbformat": 4,
 "nbformat_minor": 5
}
