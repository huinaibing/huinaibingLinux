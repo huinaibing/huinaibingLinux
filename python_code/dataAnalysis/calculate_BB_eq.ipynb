{
 "cells": [
  {
   "cell_type": "code",
   "execution_count": 1,
   "metadata": {},
   "outputs": [],
   "source": [
    "from XQY_Utils.physics_function import PhysicsFunction as pf"
   ]
  },
  {
   "cell_type": "code",
   "execution_count": 2,
   "metadata": {},
   "outputs": [],
   "source": [
    "import pdg\n",
    "db = pdg.connect()"
   ]
  },
  {
   "cell_type": "code",
   "execution_count": 3,
   "metadata": {},
   "outputs": [],
   "source": [
    "Ar_A = 40\n",
    "Ar_Z = 18\n",
    "Ar_rho = 1.4\n",
    "\n",
    "CH4_A = 16\n",
    "CH4_Z = 10\n",
    "CH4_rho = 0.423"
   ]
  },
  {
   "cell_type": "markdown",
   "metadata": {},
   "source": [
    "### 计算pi+的"
   ]
  },
  {
   "cell_type": "code",
   "execution_count": 4,
   "metadata": {},
   "outputs": [],
   "source": [
    "pi_plus = db.get_particle_by_name(\"pi+\")"
   ]
  },
  {
   "cell_type": "markdown",
   "metadata": {},
   "source": [
    "pi+通过Ar"
   ]
  },
  {
   "cell_type": "code",
   "execution_count": 5,
   "metadata": {},
   "outputs": [],
   "source": [
    "dedx = pf.calculate_BB_eq(pi_plus.charge, Ar_Z, Ar_A, pf.calculate_beta_from_momentum(pi_plus.mass * 1e3, 1e3))\n",
    "delta_e = pf.calculate_delta_e(dedx, 1, Ar_rho)"
   ]
  },
  {
   "cell_type": "code",
   "execution_count": 6,
   "metadata": {},
   "outputs": [
    {
     "name": "stdout",
     "output_type": "stream",
     "text": [
      "dedx =  1.6090465869688064\n",
      "delta_e =  2.2526652217563288\n"
     ]
    }
   ],
   "source": [
    "print(\"dedx = \", dedx)\n",
    "print(\"delta_e = \", delta_e)"
   ]
  },
  {
   "cell_type": "markdown",
   "metadata": {},
   "source": [
    "pi+通过CH4"
   ]
  },
  {
   "cell_type": "code",
   "execution_count": 7,
   "metadata": {},
   "outputs": [],
   "source": [
    "dedx = pf.calculate_BB_eq(pi_plus.charge, CH4_Z, CH4_A, pf.calculate_beta_from_momentum(pi_plus.mass * 1e3, 1e3))\n",
    "delta_e = pf.calculate_delta_e(dedx, 1, CH4_rho)"
   ]
  },
  {
   "cell_type": "code",
   "execution_count": 8,
   "metadata": {},
   "outputs": [
    {
     "name": "stdout",
     "output_type": "stream",
     "text": [
      "dedx =  2.3383013187699806\n",
      "delta_e =  0.9891014578397017\n"
     ]
    }
   ],
   "source": [
    "print(\"dedx = \", dedx)\n",
    "print(\"delta_e = \", delta_e)"
   ]
  },
  {
   "cell_type": "markdown",
   "metadata": {},
   "source": [
    "### K粒子"
   ]
  },
  {
   "cell_type": "code",
   "execution_count": 9,
   "metadata": {},
   "outputs": [
    {
     "data": {
      "text/plain": [
       "0.49367659945804093"
      ]
     },
     "execution_count": 9,
     "metadata": {},
     "output_type": "execute_result"
    }
   ],
   "source": [
    "k_plus = db.get_particle_by_name(\"K+\")\n",
    "k_plus.mass"
   ]
  },
  {
   "cell_type": "markdown",
   "metadata": {},
   "source": [
    "K通过Ar"
   ]
  },
  {
   "cell_type": "code",
   "execution_count": 10,
   "metadata": {},
   "outputs": [],
   "source": [
    "dedx = pf.calculate_BB_eq(\n",
    "    small_z=k_plus.charge,\n",
    "    big_z=Ar_Z,\n",
    "    big_a=Ar_A,\n",
    "    beta=pf.calculate_beta_from_momentum(\n",
    "        inv_mass=k_plus.mass * 1e3,\n",
    "        momentum=1e3\n",
    "    )\n",
    ")\n",
    "delta_e = pf.calculate_delta_e(\n",
    "    dedx=dedx,\n",
    "    x=1,\n",
    "    rho=Ar_rho\n",
    ")"
   ]
  },
  {
   "cell_type": "code",
   "execution_count": 11,
   "metadata": {},
   "outputs": [
    {
     "name": "stdout",
     "output_type": "stream",
     "text": [
      "dedx =  1.559091553555413\n",
      "delta_e =  2.182728174977578\n"
     ]
    }
   ],
   "source": [
    "print(\"dedx = \", dedx)\n",
    "print(\"delta_e = \", delta_e)"
   ]
  },
  {
   "cell_type": "markdown",
   "metadata": {},
   "source": [
    "K通过CH4"
   ]
  },
  {
   "cell_type": "code",
   "execution_count": 12,
   "metadata": {},
   "outputs": [],
   "source": [
    "dedx = pf.calculate_BB_eq(\n",
    "    small_z=k_plus.charge,\n",
    "    big_z=CH4_Z,\n",
    "    big_a=CH4_A,\n",
    "    beta=pf.calculate_beta_from_momentum(\n",
    "        inv_mass=k_plus.mass * 1e3,\n",
    "        momentum=1e3\n",
    "    )\n",
    ")\n",
    "delta_e = pf.calculate_delta_e(\n",
    "    dedx=dedx,\n",
    "    x=1,\n",
    "    rho=CH4_rho\n",
    ")"
   ]
  },
  {
   "cell_type": "code",
   "execution_count": 13,
   "metadata": {},
   "outputs": [
    {
     "name": "stdout",
     "output_type": "stream",
     "text": [
      "dedx =  2.2916875305520503\n",
      "delta_e =  0.9693838254235173\n"
     ]
    }
   ],
   "source": [
    "print(\"dedx = \", dedx)\n",
    "print(\"delta_e = \", delta_e)"
   ]
  },
  {
   "cell_type": "markdown",
   "metadata": {},
   "source": [
    "### Proton"
   ]
  },
  {
   "cell_type": "code",
   "execution_count": 14,
   "metadata": {},
   "outputs": [
    {
     "data": {
      "text/plain": [
       "0.93827208816"
      ]
     },
     "execution_count": 14,
     "metadata": {},
     "output_type": "execute_result"
    }
   ],
   "source": [
    "proton = db.get_particle_by_name(\"p\")\n",
    "proton.mass"
   ]
  },
  {
   "cell_type": "markdown",
   "metadata": {},
   "source": [
    "Ar"
   ]
  },
  {
   "cell_type": "code",
   "execution_count": 15,
   "metadata": {},
   "outputs": [],
   "source": [
    "dedx = pf.calculate_BB_eq(\n",
    "    small_z=proton.charge,\n",
    "    big_z=Ar_Z,\n",
    "    big_a=Ar_A,\n",
    "    beta=pf.calculate_beta_from_momentum(\n",
    "        inv_mass=proton.mass * 1e3,\n",
    "        momentum=1e3\n",
    "    )\n",
    ")\n",
    "delta_e = pf.calculate_delta_e(\n",
    "    dedx=dedx,\n",
    "    x=1,\n",
    "    rho=Ar_rho\n",
    ")"
   ]
  },
  {
   "cell_type": "code",
   "execution_count": 16,
   "metadata": {},
   "outputs": [
    {
     "name": "stdout",
     "output_type": "stream",
     "text": [
      "dedx =  2.094167049686377\n",
      "delta_e =  2.9318338695609274\n"
     ]
    }
   ],
   "source": [
    "print(\"dedx = \", dedx)\n",
    "print(\"delta_e = \", delta_e)"
   ]
  },
  {
   "cell_type": "markdown",
   "metadata": {},
   "source": [
    "CH4"
   ]
  },
  {
   "cell_type": "code",
   "execution_count": 17,
   "metadata": {},
   "outputs": [],
   "source": [
    "dedx = pf.calculate_BB_eq(\n",
    "    small_z=proton.charge,\n",
    "    big_z=CH4_Z,\n",
    "    big_a=CH4_A,\n",
    "    beta=pf.calculate_beta_from_momentum(\n",
    "        inv_mass=proton.mass * 1e3,\n",
    "        momentum=1e3\n",
    "    )\n",
    ")\n",
    "delta_e = pf.calculate_delta_e(\n",
    "    dedx=dedx,\n",
    "    x=1,\n",
    "    rho=CH4_rho\n",
    ")"
   ]
  },
  {
   "cell_type": "code",
   "execution_count": 18,
   "metadata": {},
   "outputs": [
    {
     "name": "stdout",
     "output_type": "stream",
     "text": [
      "dedx =  3.099489911292713\n",
      "delta_e =  1.3110842324768175\n"
     ]
    }
   ],
   "source": [
    "print(\"dedx = \", dedx)\n",
    "print(\"delta_e = \", delta_e)"
   ]
  },
  {
   "cell_type": "code",
   "execution_count": null,
   "metadata": {},
   "outputs": [],
   "source": []
  }
 ],
 "metadata": {
  "kernelspec": {
   "display_name": "Python 3",
   "language": "python",
   "name": "python3"
  },
  "language_info": {
   "codemirror_mode": {
    "name": "ipython",
    "version": 3
   },
   "file_extension": ".py",
   "mimetype": "text/x-python",
   "name": "python",
   "nbconvert_exporter": "python",
   "pygments_lexer": "ipython3",
   "version": "3.8.10"
  }
 },
 "nbformat": 4,
 "nbformat_minor": 2
}
