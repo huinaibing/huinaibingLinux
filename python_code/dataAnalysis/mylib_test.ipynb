{
 "cells": [
  {
   "cell_type": "markdown",
   "metadata": {},
   "source": [
    "# 夏秋雨\n",
    "## 2024112200\n",
    "### 用于测试mylib"
   ]
  },
  {
   "cell_type": "code",
   "execution_count": 1,
   "metadata": {},
   "outputs": [],
   "source": [
    "from mylib import XQYLib as xqy\n",
    "import numpy as np"
   ]
  },
  {
   "cell_type": "markdown",
   "metadata": {},
   "source": [
    "函数：返回多项式（第三题）"
   ]
  },
  {
   "cell_type": "code",
   "execution_count": 8,
   "metadata": {},
   "outputs": [
    {
     "name": "stdout",
     "output_type": "stream",
     "text": [
      "[ True  True  True]\n",
      "[ True]\n",
      "[ True  True  True  True]\n",
      "a的类型应为list\n",
      "x的shape不对\n"
     ]
    }
   ],
   "source": [
    "print(xqy.polyn(a=[1, 1, 1], x=np.array([1, 2, 3])) == np.array([3, 7, 13]))\n",
    "print(xqy.polyn(a=[0, 0, 0], x=np.array([0])) == np.array([0]))\n",
    "print(xqy.polyn(a=[-1], x=np.array([114514, 1919810, 2024112200, -2147483647])) == np.array([-1, -1, -1, -1]))\n",
    "\n",
    "try:\n",
    "    xqy.polyn(a=1, x=np.array([1, 2, 3]))\n",
    "except Exception as e:\n",
    "    print(e)\n",
    "\n",
    "try:\n",
    "    xqy.polyn(a=[1, 2], x=np.array([[1, 2, 3]]))\n",
    "except Exception as e:\n",
    "    print(e)"
   ]
  },
  {
   "cell_type": "code",
   "execution_count": null,
   "metadata": {},
   "outputs": [],
   "source": []
  }
 ],
 "metadata": {
  "kernelspec": {
   "display_name": "Python 3",
   "language": "python",
   "name": "python3"
  },
  "language_info": {
   "codemirror_mode": {
    "name": "ipython",
    "version": 3
   },
   "file_extension": ".py",
   "mimetype": "text/x-python",
   "name": "python",
   "nbconvert_exporter": "python",
   "pygments_lexer": "ipython3",
   "version": "3.8.10"
  }
 },
 "nbformat": 4,
 "nbformat_minor": 2
}
