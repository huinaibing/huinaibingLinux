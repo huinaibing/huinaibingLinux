{
 "cells": [
  {
   "cell_type": "code",
   "id": "initial_id",
   "metadata": {
    "collapsed": true,
    "ExecuteTime": {
     "end_time": "2025-04-22T10:36:22.045373Z",
     "start_time": "2025-04-22T10:36:21.934099Z"
    }
   },
   "source": "import numpy as np",
   "outputs": [],
   "execution_count": 1
  },
  {
   "metadata": {
    "ExecuteTime": {
     "end_time": "2025-04-22T10:39:06.653979Z",
     "start_time": "2025-04-22T10:39:06.643517Z"
    }
   },
   "cell_type": "code",
   "source": [
    "def piecewise_trapezoid(f, a, b, n=100):\n",
    "    x = np.linspace(a, b, n + 1)\n",
    "    dx = x[1] - x[0]\n",
    "    return (f(x).sum() - 0.5 * f(x[0]) - 0.5 * f(x[-1])) * dx"
   ],
   "id": "f4f6d1edfa6b11e2",
   "outputs": [],
   "execution_count": 2
  },
  {
   "metadata": {
    "ExecuteTime": {
     "end_time": "2025-04-22T10:40:56.462136Z",
     "start_time": "2025-04-22T10:40:56.446088Z"
    }
   },
   "cell_type": "code",
   "source": [
    "def f(x):\n",
    "    return 4 / (1 + x**2)\n",
    "piecewise_trapezoid(f, 0, 1, n=10000)"
   ],
   "id": "95d2bbec85b84f23",
   "outputs": [
    {
     "data": {
      "text/plain": [
       "3.1415926519231268"
      ]
     },
     "execution_count": 4,
     "metadata": {},
     "output_type": "execute_result"
    }
   ],
   "execution_count": 4
  },
  {
   "metadata": {
    "ExecuteTime": {
     "end_time": "2025-04-22T10:54:09.453196Z",
     "start_time": "2025-04-22T10:54:09.424564Z"
    }
   },
   "cell_type": "code",
   "source": [
    "def gauss_quad(f, a, b, n=25):\n",
    "    ti, wi = np.polynomial.legendre.leggauss(n)    \n",
    "    xi = 0.5 * (a + b) + 0.5 * (b - a) * ti\n",
    "    return (wi * f(xi)).sum() * (b - a) * 0.5"
   ],
   "id": "5e57928473efb33",
   "outputs": [],
   "execution_count": 6
  },
  {
   "metadata": {
    "ExecuteTime": {
     "end_time": "2025-04-22T10:54:10.315672Z",
     "start_time": "2025-04-22T10:54:10.284236Z"
    }
   },
   "cell_type": "code",
   "source": "gauss_quad(f, 0, 1)",
   "id": "cf47f53b6b9aec21",
   "outputs": [
    {
     "data": {
      "text/plain": [
       "3.1415926535897936"
      ]
     },
     "execution_count": 7,
     "metadata": {},
     "output_type": "execute_result"
    }
   ],
   "execution_count": 7
  },
  {
   "metadata": {
    "ExecuteTime": {
     "end_time": "2025-04-22T11:04:54.869534Z",
     "start_time": "2025-04-22T11:04:54.859884Z"
    }
   },
   "cell_type": "code",
   "source": [
    "def piecewise_gauss_quad(f, a, b, n=100, deg=5):\n",
    "    x = np.linspace(a, b, n + 1)\n",
    "    fs = [gauss_quad(f, x[i], x[i+1], b) for i in range(n)]\n",
    "    return np.array(fs).sum()"
   ],
   "id": "4d21ba9f77e86842",
   "outputs": [],
   "execution_count": 8
  },
  {
   "metadata": {
    "ExecuteTime": {
     "end_time": "2025-04-22T11:14:30.935496Z",
     "start_time": "2025-04-22T11:14:30.583148Z"
    }
   },
   "cell_type": "code",
   "source": "import sympy as sp",
   "id": "922409513cd88b30",
   "outputs": [],
   "execution_count": 9
  },
  {
   "metadata": {
    "ExecuteTime": {
     "end_time": "2025-04-22T11:14:59.656004Z",
     "start_time": "2025-04-22T11:14:59.648333Z"
    }
   },
   "cell_type": "code",
   "source": "w0, w1, x0, x1, omega = sp.symbols('w0 w1 x0 x1 omega')",
   "id": "d873e39479f3887f",
   "outputs": [],
   "execution_count": 10
  },
  {
   "metadata": {
    "ExecuteTime": {
     "end_time": "2025-04-22T11:18:09.836480Z",
     "start_time": "2025-04-22T11:18:09.788473Z"
    }
   },
   "cell_type": "code",
   "source": [
    "eqs = [\n",
    "    w0 + w1 - 2,\n",
    "    w0 * x0 + w1 * x1,\n",
    "    w0 * x0**2 + w1 * x1**2 - 2./3.,\n",
    "    w0 * x0**3 + w1 * x1**3\n",
    "]\n"
   ],
   "id": "68592ba459415b70",
   "outputs": [],
   "execution_count": 11
  },
  {
   "metadata": {
    "ExecuteTime": {
     "end_time": "2025-04-22T11:18:49.028446Z",
     "start_time": "2025-04-22T11:18:48.978220Z"
    }
   },
   "cell_type": "code",
   "source": "a = sp.nonlinsolve(eqs, [w0, w1, x0, x1])",
   "id": "90cdcbceca3f16f4",
   "outputs": [],
   "execution_count": 13
  },
  {
   "metadata": {
    "ExecuteTime": {
     "end_time": "2025-04-22T11:19:01.193733Z",
     "start_time": "2025-04-22T11:19:01.186575Z"
    }
   },
   "cell_type": "code",
   "source": "a",
   "id": "c17c21938cc24cd5",
   "outputs": [
    {
     "data": {
      "text/plain": [
       "{(1.0, 1.0, -0.577350269189626, 0.577350269189626), (1.0, 1.0, 0.577350269189626, -0.577350269189626)}"
      ],
      "text/latex": "$\\displaystyle \\left\\{\\left( 1.0, \\  1.0, \\  -0.577350269189626, \\  0.577350269189626\\right), \\left( 1.0, \\  1.0, \\  0.577350269189626, \\  -0.577350269189626\\right)\\right\\}$"
     },
     "execution_count": 15,
     "metadata": {},
     "output_type": "execute_result"
    }
   ],
   "execution_count": 15
  },
  {
   "metadata": {
    "ExecuteTime": {
     "end_time": "2025-04-22T11:19:41.514206Z",
     "start_time": "2025-04-22T11:19:41.487727Z"
    }
   },
   "cell_type": "code",
   "source": "np.polynomial.legendre.leggauss(2)",
   "id": "335d2a247a5df5af",
   "outputs": [
    {
     "data": {
      "text/plain": [
       "(array([-0.57735027,  0.57735027]), array([1., 1.]))"
      ]
     },
     "execution_count": 16,
     "metadata": {},
     "output_type": "execute_result"
    }
   ],
   "execution_count": 16
  },
  {
   "metadata": {},
   "cell_type": "code",
   "outputs": [],
   "execution_count": null,
   "source": "",
   "id": "2fecc36b7f492c0"
  },
  {
   "metadata": {},
   "cell_type": "markdown",
   "source": "# 计算不同强子的产额比",
   "id": "d359abe7f1f8797c"
  },
  {
   "metadata": {
    "ExecuteTime": {
     "end_time": "2025-04-22T12:15:47.900036Z",
     "start_time": "2025-04-22T12:15:47.291929Z"
    }
   },
   "cell_type": "code",
   "source": [
    "import pandas as pd\n",
    "import matplotlib.pyplot as plt\n",
    "import numpy as np\n",
    "\n",
    "df = pd.read_csv('DATA_FILES/hadron_table.csv')"
   ],
   "id": "497e5f49fe93689a",
   "outputs": [],
   "execution_count": 1
  },
  {
   "metadata": {
    "ExecuteTime": {
     "end_time": "2025-04-22T12:15:47.915637Z",
     "start_time": "2025-04-22T12:15:47.900036Z"
    }
   },
   "cell_type": "code",
   "source": "df.head()",
   "id": "28a08aeb5d8e2d9",
   "outputs": [
    {
     "data": {
      "text/plain": [
       "   Unnamed: 0  pdg     name     mass  decay_width  2*spin+1  isbaryon  \\\n",
       "0           0  211  Pion(+)  0.13957          0.0         1         0   \n",
       "1           1  111  Pion(0)  0.13498          0.0         1         0   \n",
       "2           2 -211  Pion(-)  0.13957          0.0         1         0   \n",
       "3           3  321  Kaon(+)  0.49368          0.0         1         0   \n",
       "4           4 -321  Kaon(-)  0.49368          0.0         1         0   \n",
       "\n",
       "   strange_num  charge_num  eta  \n",
       "0            0           1 -1.0  \n",
       "1            0           0 -1.0  \n",
       "2            0          -1 -1.0  \n",
       "3            1           1 -1.0  \n",
       "4           -1          -1 -1.0  "
      ],
      "text/html": [
       "<div>\n",
       "<style scoped>\n",
       "    .dataframe tbody tr th:only-of-type {\n",
       "        vertical-align: middle;\n",
       "    }\n",
       "\n",
       "    .dataframe tbody tr th {\n",
       "        vertical-align: top;\n",
       "    }\n",
       "\n",
       "    .dataframe thead th {\n",
       "        text-align: right;\n",
       "    }\n",
       "</style>\n",
       "<table border=\"1\" class=\"dataframe\">\n",
       "  <thead>\n",
       "    <tr style=\"text-align: right;\">\n",
       "      <th></th>\n",
       "      <th>Unnamed: 0</th>\n",
       "      <th>pdg</th>\n",
       "      <th>name</th>\n",
       "      <th>mass</th>\n",
       "      <th>decay_width</th>\n",
       "      <th>2*spin+1</th>\n",
       "      <th>isbaryon</th>\n",
       "      <th>strange_num</th>\n",
       "      <th>charge_num</th>\n",
       "      <th>eta</th>\n",
       "    </tr>\n",
       "  </thead>\n",
       "  <tbody>\n",
       "    <tr>\n",
       "      <th>0</th>\n",
       "      <td>0</td>\n",
       "      <td>211</td>\n",
       "      <td>Pion(+)</td>\n",
       "      <td>0.13957</td>\n",
       "      <td>0.0</td>\n",
       "      <td>1</td>\n",
       "      <td>0</td>\n",
       "      <td>0</td>\n",
       "      <td>1</td>\n",
       "      <td>-1.0</td>\n",
       "    </tr>\n",
       "    <tr>\n",
       "      <th>1</th>\n",
       "      <td>1</td>\n",
       "      <td>111</td>\n",
       "      <td>Pion(0)</td>\n",
       "      <td>0.13498</td>\n",
       "      <td>0.0</td>\n",
       "      <td>1</td>\n",
       "      <td>0</td>\n",
       "      <td>0</td>\n",
       "      <td>0</td>\n",
       "      <td>-1.0</td>\n",
       "    </tr>\n",
       "    <tr>\n",
       "      <th>2</th>\n",
       "      <td>2</td>\n",
       "      <td>-211</td>\n",
       "      <td>Pion(-)</td>\n",
       "      <td>0.13957</td>\n",
       "      <td>0.0</td>\n",
       "      <td>1</td>\n",
       "      <td>0</td>\n",
       "      <td>0</td>\n",
       "      <td>-1</td>\n",
       "      <td>-1.0</td>\n",
       "    </tr>\n",
       "    <tr>\n",
       "      <th>3</th>\n",
       "      <td>3</td>\n",
       "      <td>321</td>\n",
       "      <td>Kaon(+)</td>\n",
       "      <td>0.49368</td>\n",
       "      <td>0.0</td>\n",
       "      <td>1</td>\n",
       "      <td>0</td>\n",
       "      <td>1</td>\n",
       "      <td>1</td>\n",
       "      <td>-1.0</td>\n",
       "    </tr>\n",
       "    <tr>\n",
       "      <th>4</th>\n",
       "      <td>4</td>\n",
       "      <td>-321</td>\n",
       "      <td>Kaon(-)</td>\n",
       "      <td>0.49368</td>\n",
       "      <td>0.0</td>\n",
       "      <td>1</td>\n",
       "      <td>0</td>\n",
       "      <td>-1</td>\n",
       "      <td>-1</td>\n",
       "      <td>-1.0</td>\n",
       "    </tr>\n",
       "  </tbody>\n",
       "</table>\n",
       "</div>"
      ]
     },
     "execution_count": 2,
     "metadata": {},
     "output_type": "execute_result"
    }
   ],
   "execution_count": 2
  },
  {
   "metadata": {
    "ExecuteTime": {
     "end_time": "2025-04-22T12:15:47.925281Z",
     "start_time": "2025-04-22T12:15:47.915637Z"
    }
   },
   "cell_type": "code",
   "source": [
    "def fdist(p, T, m, spin_dof, eta):\n",
    "    E = np.sqrt(p**2 + m**2)\n",
    "    return spin_dof / (np.exp(E / T) + eta) * p**2 * 4 * np.pi / (2 * np.pi * 0.1973)**3\n",
    "# 极坐标"
   ],
   "id": "6c1713e5035432bc",
   "outputs": [],
   "execution_count": 3
  },
  {
   "metadata": {
    "ExecuteTime": {
     "end_time": "2025-04-22T12:15:48.234928Z",
     "start_time": "2025-04-22T12:15:48.028837Z"
    }
   },
   "cell_type": "code",
   "source": [
    "from scipy.integrate import quad\n",
    "\n",
    "def par_num(T, m, spin_dof, eta):\n",
    "    return quad(fdist, 0, 50 * T, args=(T, m, spin_dof, eta))[0]"
   ],
   "id": "81935dda4b3bec7c",
   "outputs": [],
   "execution_count": 4
  },
  {
   "metadata": {
    "ExecuteTime": {
     "end_time": "2025-04-22T12:15:48.635126Z",
     "start_time": "2025-04-22T12:15:48.266459Z"
    }
   },
   "cell_type": "code",
   "source": [
    "p = np.linspace(0, 3, 100) # GeV\n",
    "T = 0.150 # GeV\n",
    "\n",
    "f_proton = fdist(p, T, 0.938, 2, 1)\n",
    "f_pion = fdist(p, T, 0.138, 1, -1)\n",
    "\n",
    "plt.plot(p, f_proton, 'b', p, f_pion, 'r')\n",
    "plt.semilogy()"
   ],
   "id": "3a1474ecd943bbde",
   "outputs": [
    {
     "data": {
      "text/plain": [
       "[]"
      ]
     },
     "execution_count": 5,
     "metadata": {},
     "output_type": "execute_result"
    },
    {
     "data": {
      "text/plain": [
       "<Figure size 640x480 with 1 Axes>"
      ],
      "image/png": "[encoded data removed]"
     },
     "metadata": {},
     "output_type": "display_data"
    }
   ],
   "execution_count": 5
  },
  {
   "metadata": {
    "ExecuteTime": {
     "end_time": "2025-04-22T12:15:48.682980Z",
     "start_time": "2025-04-22T12:15:48.667204Z"
    }
   },
   "cell_type": "code",
   "source": "proton = par_num(T, 0.938, 2, 1)",
   "id": "e7349974b3aa12f5",
   "outputs": [],
   "execution_count": 6
  },
  {
   "metadata": {
    "ExecuteTime": {
     "end_time": "2025-04-22T12:15:48.714747Z",
     "start_time": "2025-04-22T12:15:48.699047Z"
    }
   },
   "cell_type": "code",
   "source": "pion = par_num(T, 0.138, 1, -1)",
   "id": "5c532c58a1009971",
   "outputs": [],
   "execution_count": 7
  },
  {
   "metadata": {
    "ExecuteTime": {
     "end_time": "2025-04-22T12:15:49.351649Z",
     "start_time": "2025-04-22T12:15:49.347985Z"
    }
   },
   "cell_type": "code",
   "source": "pion / proton",
   "id": "412980e87932d251",
   "outputs": [
    {
     "data": {
      "text/plain": [
       "18.519109587220985"
      ]
     },
     "execution_count": 8,
     "metadata": {},
     "output_type": "execute_result"
    }
   ],
   "execution_count": 8
  },
  {
   "metadata": {
    "ExecuteTime": {
     "end_time": "2025-04-22T12:18:14.347561Z",
     "start_time": "2025-04-22T12:18:14.343521Z"
    }
   },
   "cell_type": "code",
   "source": "kaon = par_num(T, 0.4936, 1, -1)",
   "id": "6845133dc286c37c",
   "outputs": [],
   "execution_count": 9
  },
  {
   "metadata": {
    "ExecuteTime": {
     "end_time": "2025-04-22T12:18:47.979107Z",
     "start_time": "2025-04-22T12:18:47.967318Z"
    }
   },
   "cell_type": "code",
   "source": "pion / kaon",
   "id": "b87049a7135068f0",
   "outputs": [
    {
     "data": {
      "text/plain": [
       "3.993168094002329"
      ]
     },
     "execution_count": 11,
     "metadata": {},
     "output_type": "execute_result"
    }
   ],
   "execution_count": 11
  },
  {
   "metadata": {},
   "cell_type": "code",
   "outputs": [],
   "execution_count": null,
   "source": "",
   "id": "540fc02c41431faa"
  },
  {
   "metadata": {},
   "cell_type": "markdown",
   "source": "# 计算统计物理公式",
   "id": "2a20a3571a8aaf28"
  },
  {
   "metadata": {
    "ExecuteTime": {
     "end_time": "2025-04-22T13:03:54.142392Z",
     "start_time": "2025-04-22T13:03:53.329738Z"
    }
   },
   "cell_type": "code",
   "source": [
    "import pandas as pd\n",
    "import matplotlib.pyplot as plt\n",
    "import numpy as np\n",
    "from scipy.integrate import quad\n",
    "\n",
    "df = pd.read_csv('DATA_FILES/hadron_table.csv')"
   ],
   "id": "b0521aac173d583",
   "outputs": [],
   "execution_count": 1
  },
  {
   "metadata": {
    "ExecuteTime": {
     "end_time": "2025-04-22T13:03:54.173798Z",
     "start_time": "2025-04-22T13:03:54.142392Z"
    }
   },
   "cell_type": "code",
   "source": [
    "for i in range(319):\n",
    "    par = df.iloc[i, :]\n",
    "    print(par[\"mass\"])"
   ],
   "id": "4c20431c6ef92f49",
   "outputs": [
    {
     "name": "stdout",
     "output_type": "stream",
     "text": [
      "0.13957\n",
      "0.13498\n",
      "0.13957\n",
      "0.49368\n",
      "0.49368\n",
      "0.49765\n",
      "0.49765\n",
      "0.54775\n",
      "0.7758\n",
      "0.7758\n",
      "0.7758\n",
      "0.78259\n",
      "0.89166\n",
      "0.89166\n",
      "0.8961\n",
      "0.8961\n",
      "0.93827\n",
      "0.93957\n",
      "0.95778\n",
      "0.9741\n",
      "0.9847\n",
      "0.9847\n",
      "0.9847\n",
      "1.01946\n",
      "1.11568\n",
      "1.17\n",
      "1.18937\n",
      "1.19264\n",
      "1.19745\n",
      "1.2295\n",
      "1.2295\n",
      "1.2295\n",
      "1.23\n",
      "1.23\n",
      "1.23\n",
      "1.232\n",
      "1.232\n",
      "1.232\n",
      "1.232\n",
      "1.273\n",
      "1.273\n",
      "1.273\n",
      "1.273\n",
      "1.2754\n",
      "1.2818\n",
      "1.294\n",
      "1.3\n",
      "1.3\n",
      "1.3\n",
      "1.31483\n",
      "1.32131\n",
      "1.3183\n",
      "1.3183\n",
      "1.3183\n",
      "1.376\n",
      "1.376\n",
      "1.376\n",
      "1.3828\n",
      "1.3837\n",
      "1.3872\n",
      "1.4\n",
      "1.402\n",
      "1.402\n",
      "1.402\n",
      "1.402\n",
      "1.4065\n",
      "1.414\n",
      "1.414\n",
      "1.414\n",
      "1.414\n",
      "1.4103\n",
      "1.412\n",
      "1.412\n",
      "1.412\n",
      "1.412\n",
      "1.419\n",
      "1.4263\n",
      "1.4256\n",
      "1.4256\n",
      "1.4324\n",
      "1.4324\n",
      "1.44\n",
      "1.44\n",
      "1.465\n",
      "1.465\n",
      "1.465\n",
      "1.474\n",
      "1.474\n",
      "1.474\n",
      "1.476\n",
      "1.507\n",
      "1.5195\n",
      "1.52\n",
      "1.52\n",
      "1.525\n",
      "1.5318\n",
      "1.535\n",
      "1.535\n",
      "1.535\n",
      "1.6\n",
      "1.6\n",
      "1.6\n",
      "1.6\n",
      "1.6\n",
      "1.617\n",
      "1.63\n",
      "1.63\n",
      "1.63\n",
      "1.63\n",
      "1.653\n",
      "1.653\n",
      "1.653\n",
      "1.655\n",
      "1.655\n",
      "1.66\n",
      "1.66\n",
      "1.66\n",
      "1.67\n",
      "1.667\n",
      "1.67\n",
      "1.67\n",
      "1.67\n",
      "1.67\n",
      "1.6724\n",
      "1.6724\n",
      "1.6724\n",
      "1.67243\n",
      "1.675\n",
      "1.675\n",
      "1.68\n",
      "1.685\n",
      "1.685\n",
      "1.6888\n",
      "1.6888\n",
      "1.6888\n",
      "1.69\n",
      "1.69\n",
      "1.69\n",
      "1.7\n",
      "1.7\n",
      "1.7\n",
      "1.7\n",
      "1.7\n",
      "1.7\n",
      "1.71\n",
      "1.71\n",
      "1.715\n",
      "1.717\n",
      "1.717\n",
      "1.717\n",
      "1.717\n",
      "1.72\n",
      "1.72\n",
      "1.72\n",
      "1.72\n",
      "1.72\n",
      "1.75\n",
      "1.75\n",
      "1.75\n",
      "1.773\n",
      "1.773\n",
      "1.773\n",
      "1.773\n",
      "1.775\n",
      "1.775\n",
      "1.775\n",
      "1.776\n",
      "1.776\n",
      "1.776\n",
      "1.776\n",
      "1.8\n",
      "1.81\n",
      "1.812\n",
      "1.812\n",
      "1.812\n",
      "1.816\n",
      "1.816\n",
      "1.816\n",
      "1.816\n",
      "1.82\n",
      "1.823\n",
      "1.823\n",
      "1.83\n",
      "1.854\n",
      "1.89\n",
      "1.89\n",
      "1.89\n",
      "1.89\n",
      "1.89\n",
      "1.91\n",
      "1.91\n",
      "1.91\n",
      "1.91\n",
      "1.915\n",
      "1.915\n",
      "1.915\n",
      "1.92\n",
      "1.92\n",
      "1.92\n",
      "1.92\n",
      "1.93\n",
      "1.93\n",
      "1.93\n",
      "1.93\n",
      "1.94\n",
      "1.94\n",
      "1.94\n",
      "1.945\n",
      "1.95\n",
      "1.95\n",
      "1.96\n",
      "1.96\n",
      "1.96\n",
      "1.96\n",
      "2.011\n",
      "2.252\n",
      "0.93827\n",
      "0.93957\n",
      "1.11568\n",
      "1.18937\n",
      "1.19264\n",
      "1.19745\n",
      "1.232\n",
      "1.232\n",
      "1.232\n",
      "1.232\n",
      "1.31483\n",
      "1.32131\n",
      "1.3828\n",
      "1.3837\n",
      "1.3872\n",
      "1.4065\n",
      "1.44\n",
      "1.44\n",
      "1.5195\n",
      "1.52\n",
      "1.52\n",
      "1.5318\n",
      "1.535\n",
      "1.535\n",
      "1.535\n",
      "1.6\n",
      "1.6\n",
      "1.6\n",
      "1.6\n",
      "1.6\n",
      "1.63\n",
      "1.63\n",
      "1.63\n",
      "1.63\n",
      "1.655\n",
      "1.655\n",
      "1.66\n",
      "1.66\n",
      "1.66\n",
      "1.67\n",
      "1.67\n",
      "1.67\n",
      "1.67\n",
      "1.67243\n",
      "1.675\n",
      "1.675\n",
      "1.685\n",
      "1.685\n",
      "1.69\n",
      "1.69\n",
      "1.69\n",
      "1.7\n",
      "1.7\n",
      "1.7\n",
      "1.7\n",
      "1.7\n",
      "1.7\n",
      "1.71\n",
      "1.71\n",
      "1.72\n",
      "1.72\n",
      "1.75\n",
      "1.75\n",
      "1.75\n",
      "1.775\n",
      "1.775\n",
      "1.775\n",
      "1.8\n",
      "1.81\n",
      "1.82\n",
      "1.823\n",
      "1.823\n",
      "1.83\n",
      "1.89\n",
      "1.89\n",
      "1.89\n",
      "1.89\n",
      "1.89\n",
      "1.91\n",
      "1.91\n",
      "1.91\n",
      "1.91\n",
      "1.915\n",
      "1.915\n",
      "1.915\n",
      "1.92\n",
      "1.92\n",
      "1.92\n",
      "1.92\n",
      "1.93\n",
      "1.93\n",
      "1.93\n",
      "1.93\n",
      "1.94\n",
      "1.94\n",
      "1.94\n",
      "1.95\n",
      "1.95\n",
      "1.96\n",
      "1.96\n",
      "1.96\n",
      "1.96\n",
      "2.252\n"
     ]
    }
   ],
   "execution_count": 2
  },
  {
   "metadata": {
    "ExecuteTime": {
     "end_time": "2025-04-22T13:03:54.189843Z",
     "start_time": "2025-04-22T13:03:54.173798Z"
    }
   },
   "cell_type": "code",
   "source": [
    "def pressure(T, nhardron=319):\n",
    "    def integrand(p, T, m, spin_dof, eta):\n",
    "        coef = eta * T * spin_dof / 2 / np.pi**2\n",
    "        E = np.sqrt(p**2 + m**2)\n",
    "        return coef * p**2 * np.log(1 + eta * np.exp(-E / T)) / 0.1973**3\n",
    "    \n",
    "    res = 0.0\n",
    "    \n",
    "    for i in range(nhardron):\n",
    "        par = df.iloc[i, :]\n",
    "        res += quad(integrand, 0, T * 500, args=(T, par[\"mass\"], par[\"2*spin+1\"], par[\"eta\"]))[0]\n",
    "        \n",
    "    return res"
   ],
   "id": "c60be6ff85100913",
   "outputs": [],
   "execution_count": 3
  },
  {
   "metadata": {
    "ExecuteTime": {
     "end_time": "2025-04-22T13:03:54.371423Z",
     "start_time": "2025-04-22T13:03:54.189843Z"
    }
   },
   "cell_type": "code",
   "source": "pressure(0.150)",
   "id": "16e551043b5809c3",
   "outputs": [
    {
     "data": {
      "text/plain": [
       "0.040882302708144774"
      ]
     },
     "execution_count": 4,
     "metadata": {},
     "output_type": "execute_result"
    }
   ],
   "execution_count": 4
  },
  {
   "metadata": {
    "ExecuteTime": {
     "end_time": "2025-04-22T13:03:54.387290Z",
     "start_time": "2025-04-22T13:03:54.371423Z"
    }
   },
   "cell_type": "code",
   "source": [
    "def energy_density(T, nhardron=319):\n",
    "    def integrand(p, T, m, spin_dof, eta):\n",
    "        coef = spin_dof / 2 / np.pi**2\n",
    "        E = np.sqrt(p**2 + m**2)\n",
    "        return coef * p**2 * E / (eta + np.exp(E / T)) / 0.1973**3\n",
    "    \n",
    "    res = 0.0\n",
    "    \n",
    "    for i in range(nhardron):\n",
    "        par = df.iloc[i, :]\n",
    "        res += quad(integrand, 0, T * 500, args=(T, par[\"mass\"], par[\"2*spin+1\"], par[\"eta\"]))[0]\n",
    "        \n",
    "    return res"
   ],
   "id": "a0c9f3579c56d029",
   "outputs": [],
   "execution_count": 5
  },
  {
   "metadata": {
    "ExecuteTime": {
     "end_time": "2025-04-22T13:03:54.403212Z",
     "start_time": "2025-04-22T13:03:54.387290Z"
    }
   },
   "cell_type": "code",
   "source": "energy_density(0.15, 1)",
   "id": "ae8e3e8318fd3eb2",
   "outputs": [
    {
     "data": {
      "text/plain": [
       "0.019587197811961155"
      ]
     },
     "execution_count": 6,
     "metadata": {},
     "output_type": "execute_result"
    }
   ],
   "execution_count": 6
  },
  {
   "metadata": {},
   "cell_type": "code",
   "outputs": [],
   "execution_count": null,
   "source": "",
   "id": "fdac017c2d3dc8cd"
  }
 ],
 "metadata": {
  "kernelspec": {
   "display_name": "Python 3",
   "language": "python",
   "name": "python3"
  },
  "language_info": {
   "codemirror_mode": {
    "name": "ipython",
    "version": 2
   },
   "file_extension": ".py",
   "mimetype": "text/x-python",
   "name": "python",
   "nbconvert_exporter": "python",
   "pygments_lexer": "ipython2",
   "version": "2.7.6"
  }
 },
 "nbformat": 4,
 "nbformat_minor": 5
}
