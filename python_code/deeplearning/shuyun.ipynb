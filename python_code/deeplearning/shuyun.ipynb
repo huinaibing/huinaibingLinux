{
 "cells": [
  {
   "metadata": {},
   "cell_type": "markdown",
   "source": "# 分子动力学问题",
   "id": "1de138b02f975eed"
  },
  {
   "metadata": {
    "ExecuteTime": {
     "end_time": "2025-05-27T13:04:25.395532Z",
     "start_time": "2025-05-27T13:04:25.300829Z"
    }
   },
   "cell_type": "code",
   "source": [
    "import numpy as np\n",
    "\n",
    "class LorentzMat:\n",
    "    def __init__(self, vx, vy, vz):\n",
    "        self.v = np.sqrt(vx**2 + vy**2 + vz**2)\n",
    "        self.gamma = 1 / np.sqrt(1 - self.v**2)\n",
    "        self.mat = np.zeros((4, 4))\n",
    "        \n",
    "        self.mat[0, 0] = self.gamma\n",
    "        self.mat[0, 1] = -self.gamma * vx\n",
    "        self.mat[0, 2] = -self.gamma * vy\n",
    "        self.mat[0, 3] = -self.gamma * vz\n",
    "        \n",
    "        self.mat[1, 0] = -self.gamma * vx\n",
    "        self.mat[1, 1] = 1 + (self.gamma - 1) * vx**2 / self.v**2\n",
    "        self.mat[1, 2] = (self.gamma - 1) * vx * vy / self.v**2\n",
    "        self.mat[1, 3] = (self.gamma - 1) * vx * vz / self.v**2\n",
    "        \n",
    "        self.mat[2, 0] = -self.gamma * vy\n",
    "        self.mat[2, 1] = (self.gamma - 1) * vx * vy / self.v**2\n",
    "        self.mat[2, 2] = 1 + (self.gamma - 1) * vy**2 / self.v**2\n",
    "        self.mat[2, 3] = (self.gamma - 1) * vy * vz / self.v**2\n",
    "        \n",
    "        self.mat[3, 0] = -self.gamma * vz\n",
    "        self.mat[3, 1] = (self.gamma - 1) * vx * vz / self.v**2\n",
    "        self.mat[3, 2] = (self.gamma - 1) * vy * vz / self.v**2\n",
    "        self.mat[3, 3] = 1 + (self.gamma - 1) * vz**2 / self.v**2\n",
    "        \n",
    "    def __mul__(self, other: np.ndarray):\n",
    "        assert other.shape == (4, 1)\n",
    "        return self.mat @ other"
   ],
   "id": "5c83eca5bbef97c7",
   "outputs": [],
   "execution_count": 1
  },
  {
   "metadata": {
    "ExecuteTime": {
     "end_time": "2025-05-27T13:04:25.410368Z",
     "start_time": "2025-05-27T13:04:25.395532Z"
    }
   },
   "cell_type": "code",
   "source": [
    "a = np.array([[5], [4], [3], [2]])\n",
    "a"
   ],
   "id": "99bfe711154e4b23",
   "outputs": [
    {
     "data": {
      "text/plain": [
       "array([[5],\n",
       "       [4],\n",
       "       [3],\n",
       "       [2]])"
      ]
     },
     "execution_count": 2,
     "metadata": {},
     "output_type": "execute_result"
    }
   ],
   "execution_count": 2
  },
  {
   "metadata": {
    "ExecuteTime": {
     "end_time": "2025-05-27T13:04:25.426923Z",
     "start_time": "2025-05-27T13:04:25.411372Z"
    }
   },
   "cell_type": "code",
   "source": "LorentzMat(0.5, 0.5, 0.5) * a",
   "id": "42b7bc13908c3e0",
   "outputs": [
    {
     "data": {
      "text/plain": [
       "array([[1.],\n",
       "       [2.],\n",
       "       [1.],\n",
       "       [0.]])"
      ]
     },
     "execution_count": 3,
     "metadata": {},
     "output_type": "execute_result"
    }
   ],
   "execution_count": 3
  },
  {
   "metadata": {
    "ExecuteTime": {
     "end_time": "2025-05-27T13:04:25.442669Z",
     "start_time": "2025-05-27T13:04:25.428013Z"
    }
   },
   "cell_type": "code",
   "source": "",
   "id": "8247680e089916ba",
   "outputs": [],
   "execution_count": 3
  }
 ],
 "metadata": {
  "kernelspec": {
   "display_name": "Python 3",
   "language": "python",
   "name": "python3"
  },
  "language_info": {
   "codemirror_mode": {
    "name": "ipython",
    "version": 2
   },
   "file_extension": ".py",
   "mimetype": "text/x-python",
   "name": "python",
   "nbconvert_exporter": "python",
   "pygments_lexer": "ipython2",
   "version": "2.7.6"
  }
 },
 "nbformat": 4,
 "nbformat_minor": 5
}
