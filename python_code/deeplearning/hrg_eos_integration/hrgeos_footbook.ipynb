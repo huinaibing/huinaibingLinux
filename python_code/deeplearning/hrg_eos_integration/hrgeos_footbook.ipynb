{
 "cells": [
  {
   "cell_type": "code",
   "id": "initial_id",
   "metadata": {
    "collapsed": true,
    "ExecuteTime": {
     "end_time": "2025-05-02T12:31:27.259549Z",
     "start_time": "2025-05-02T12:31:26.859888Z"
    }
   },
   "source": "from hrgeos import HrgEosIntegration",
   "outputs": [],
   "execution_count": 1
  },
  {
   "metadata": {
    "ExecuteTime": {
     "end_time": "2025-05-02T12:31:27.322147Z",
     "start_time": "2025-05-02T12:31:27.261548Z"
    }
   },
   "cell_type": "code",
   "source": [
    "proton_calculator = HrgEosIntegration(\"p\")\n",
    "pi0_calculator = HrgEosIntegration(\"pi0\")"
   ],
   "id": "41551a4e1b50c0ef",
   "outputs": [],
   "execution_count": 2
  },
  {
   "metadata": {
    "ExecuteTime": {
     "end_time": "2025-05-02T12:31:27.384675Z",
     "start_time": "2025-05-02T12:31:27.323152Z"
    }
   },
   "cell_type": "code",
   "source": [
    "print(\"proton_mass\", proton_calculator.particle.mass)\n",
    "print(\"pi0_mass\", pi0_calculator.particle.mass)"
   ],
   "id": "fc09c160b5d9bb6f",
   "outputs": [
    {
     "name": "stdout",
     "output_type": "stream",
     "text": [
      "proton_mass 0.93827208816\n",
      "pi0_mass 0.134976827767685\n"
     ]
    }
   ],
   "execution_count": 3
  },
  {
   "metadata": {
    "ExecuteTime": {
     "end_time": "2025-05-02T12:31:31.634990Z",
     "start_time": "2025-05-02T12:31:27.386070Z"
    }
   },
   "cell_type": "code",
   "source": [
    "temper = 0.155\n",
    "pi0_density = pi0_calculator.density_n(temper)\n",
    "proton_density = proton_calculator.density_n(temper)\n",
    "\n",
    "print(\"ratio pion / proton=\", pi0_density / proton_density)"
   ],
   "id": "6f7aa0e84a7531a6",
   "outputs": [
    {
     "name": "stdout",
     "output_type": "stream",
     "text": [
      "ratio pion / proton= 16.10203201310647\n"
     ]
    }
   ],
   "execution_count": 4
  },
  {
   "metadata": {},
   "cell_type": "markdown",
   "source": [
    "# 测试函数，定义一个质量为0的强子\n",
    "###### 由于PDG API不可能有这种东西，所以继承之前的类然后重载构造函数\n",
    "# 显然有如下公式\n",
    "$$\n",
    "P = \\frac{\\epsilon}{3}\n",
    "$$"
   ],
   "id": "40f7c12865f8a327"
  },
  {
   "metadata": {
    "ExecuteTime": {
     "end_time": "2025-05-02T12:31:32.146872Z",
     "start_time": "2025-05-02T12:31:31.636004Z"
    }
   },
   "cell_type": "code",
   "source": [
    "import numpy as np\n",
    "class ZeroMass(HrgEosIntegration):\n",
    "    def __init__(self):\n",
    "        super().__init__(\"p\")\n",
    "        class Particle:\n",
    "            def __init__(self):\n",
    "                self.quantum_J = \"0\"\n",
    "                self.is_boson = True\n",
    "                self.mass = 0.0\n",
    "        self.particle = Particle()\n",
    "        \n",
    "Tarr = np.linspace(0.01, 0.2, 100)\n",
    "\n",
    "particle_zero_mass = ZeroMass()\n",
    "\n",
    "ed = [particle_zero_mass.energy_density_e(i) for i in Tarr]\n",
    "\n",
    "pr = [particle_zero_mass.pressure_p(i) for i in Tarr]\n",
    "\n",
    "import matplotlib.pyplot as plt\n",
    "\n",
    "_ = plt.hist(np.array(ed) / np.array(pr), range=(0, 5), bins=100)"
   ],
   "id": "87600bf3fcdd11d0",
   "outputs": [
    {
     "data": {
      "text/plain": [
       "<Figure size 640x480 with 1 Axes>"
      ],
      "image/png": "[encoded data removed]"
     },
     "metadata": {},
     "output_type": "display_data"
    }
   ],
   "execution_count": 5
  },
  {
   "metadata": {},
   "cell_type": "markdown",
   "source": "# $\\pi$介子气体",
   "id": "73f1b0e9cce868fc"
  },
  {
   "metadata": {
    "ExecuteTime": {
     "end_time": "2025-05-02T12:33:45.351820Z",
     "start_time": "2025-05-02T12:31:32.148395Z"
    }
   },
   "cell_type": "code",
   "source": [
    "pion = HrgEosIntegration(\"pi0\")\n",
    "\n",
    "pion_ed = []\n",
    "pion_pr = []\n",
    "\n",
    "from tqdm import tqdm\n",
    "for i in tqdm(Tarr):\n",
    "    pion_ed.append(pion.energy_density_e(i))\n",
    "    pion_pr.append(pion.pressure_p(i))\n",
    "\n",
    "_ = plt.hist(np.array(pion_ed) / np.array(pion_pr), bins=100, range=(0, 5))"
   ],
   "id": "9c8843d9d1b66527",
   "outputs": [
    {
     "name": "stderr",
     "output_type": "stream",
     "text": [
      "100%|██████████| 100/100 [02:13<00:00,  1.33s/it]\n"
     ]
    },
    {
     "data": {
      "text/plain": [
       "<Figure size 640x480 with 1 Axes>"
      ],
      "image/png": "[encoded data removed]"
     },
     "metadata": {},
     "output_type": "display_data"
    }
   ],
   "execution_count": 6
  },
  {
   "metadata": {},
   "cell_type": "markdown",
   "source": "# 如上，显然不太符合3倍的公式",
   "id": "dfeb296dd02aa592"
  },
  {
   "metadata": {
    "ExecuteTime": {
     "end_time": "2025-05-02T12:33:45.367825Z",
     "start_time": "2025-05-02T12:33:45.352820Z"
    }
   },
   "cell_type": "code",
   "source": "",
   "id": "7eeb8541a12dfb78",
   "outputs": [],
   "execution_count": 6
  }
 ],
 "metadata": {
  "kernelspec": {
   "display_name": "Python 3",
   "language": "python",
   "name": "python3"
  },
  "language_info": {
   "codemirror_mode": {
    "name": "ipython",
    "version": 2
   },
   "file_extension": ".py",
   "mimetype": "text/x-python",
   "name": "python",
   "nbconvert_exporter": "python",
   "pygments_lexer": "ipython2",
   "version": "2.7.6"
  }
 },
 "nbformat": 4,
 "nbformat_minor": 5
}
