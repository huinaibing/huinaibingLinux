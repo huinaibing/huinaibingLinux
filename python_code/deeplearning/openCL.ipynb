{
 "cells": [
  {
   "metadata": {
    "ExecuteTime": {
     "end_time": "2025-06-10T11:10:54.352744Z",
     "start_time": "2025-06-10T11:10:53.973970Z"
    }
   },
   "cell_type": "code",
   "source": [
    "import numpy as np\n",
    "PYOPENCL_COMPILER_OUTPUT=1\n",
    "import pyopencl as cl\n",
    "\n",
    "\n",
    "rng = np.random.default_rng()\n",
    "a_np = rng.random(50000, dtype=np.float32)\n",
    "b_np = rng.random(50000, dtype=np.float32)\n",
    "\n",
    "ctx = cl.create_some_context()\n",
    "queue = cl.CommandQueue(ctx)\n",
    "\n",
    "mf = cl.mem_flags\n",
    "a_g = cl.Buffer(ctx, mf.READ_ONLY | mf.COPY_HOST_PTR, hostbuf=a_np)\n",
    "b_g = cl.Buffer(ctx, mf.READ_ONLY | mf.COPY_HOST_PTR, hostbuf=b_np)\n",
    "\n",
    "prg = cl.Program(ctx, \"\"\"\n",
    "__kernel void sum(\n",
    "    __global const float *a_g, __global const float *b_g, __global float *res_g)\n",
    "{\n",
    "  int gid = get_global_id(0);\n",
    "  res_g[gid] = a_g[gid] + b_g[gid];\n",
    "}\n",
    "\"\"\").build()\n",
    "\n",
    "res_g = cl.Buffer(ctx, mf.WRITE_ONLY, a_np.nbytes)\n",
    "knl = prg.sum  # Use this Kernel object for repeated calls\n",
    "knl(queue, a_np.shape, None, a_g, b_g, res_g)\n",
    "\n",
    "res_np = np.empty_like(a_np)\n",
    "cl.enqueue_copy(queue, res_np, res_g)\n",
    "\n",
    "# Check on CPU with Numpy:\n",
    "error_np = res_np - (a_np + b_np)\n",
    "print(f\"Error:\\n{error_np}\")\n",
    "print(f\"Norm: {np.linalg.norm(error_np):.16e}\")\n",
    "assert np.allclose(res_np, a_np + b_np)"
   ],
   "id": "b37dbee9c6cfd142",
   "outputs": [
    {
     "name": "stdout",
     "output_type": "stream",
     "text": [
      "Error:\n",
      "[0. 0. 0. ... 0. 0. 0.]\n",
      "Norm: 0.0000000000000000e+00\n"
     ]
    }
   ],
   "execution_count": 1
  },
  {
   "metadata": {
    "ExecuteTime": {
     "end_time": "2025-06-10T11:30:22.394526Z",
     "start_time": "2025-06-10T11:30:20.852462Z"
    }
   },
   "cell_type": "code",
   "source": "import torch",
   "id": "400b8472bc4186c7",
   "outputs": [],
   "execution_count": 1
  },
  {
   "metadata": {
    "ExecuteTime": {
     "end_time": "2025-06-10T11:30:22.425720Z",
     "start_time": "2025-06-10T11:30:22.396569Z"
    }
   },
   "cell_type": "code",
   "source": "torch.cuda.is_available()",
   "id": "7b1268d195c3051e",
   "outputs": [
    {
     "data": {
      "text/plain": [
       "True"
      ]
     },
     "execution_count": 2,
     "metadata": {},
     "output_type": "execute_result"
    }
   ],
   "execution_count": 2
  },
  {
   "metadata": {
    "ExecuteTime": {
     "end_time": "2025-06-10T11:33:22.664648Z",
     "start_time": "2025-06-10T11:33:22.659580Z"
    }
   },
   "cell_type": "code",
   "source": "device = torch.device(\"cuda\" if torch.cuda.is_available() else \"cpu\")",
   "id": "3f4922d82d95ede3",
   "outputs": [],
   "execution_count": 6
  },
  {
   "metadata": {
    "ExecuteTime": {
     "end_time": "2025-06-10T11:33:27.794139Z",
     "start_time": "2025-06-10T11:33:27.606699Z"
    }
   },
   "cell_type": "code",
   "source": "a = torch.randn((3, 3), device=device)",
   "id": "6de6b8d4184ad2c7",
   "outputs": [],
   "execution_count": 7
  },
  {
   "metadata": {
    "ExecuteTime": {
     "end_time": "2025-06-10T11:33:28.506356Z",
     "start_time": "2025-06-10T11:33:28.493151Z"
    }
   },
   "cell_type": "code",
   "source": "a",
   "id": "bd97d83572dd3546",
   "outputs": [
    {
     "data": {
      "text/plain": [
       "tensor([[ 1.8404,  0.1438, -2.0192],\n",
       "        [ 0.9339,  1.4633,  0.1523],\n",
       "        [ 0.1327, -1.1121, -0.3615]], device='cuda:0')"
      ]
     },
     "execution_count": 8,
     "metadata": {},
     "output_type": "execute_result"
    }
   ],
   "execution_count": 8
  },
  {
   "metadata": {},
   "cell_type": "code",
   "outputs": [],
   "execution_count": null,
   "source": "",
   "id": "ece3f974b8bb6f7c"
  }
 ],
 "metadata": {
  "kernelspec": {
   "display_name": "Python 3",
   "language": "python",
   "name": "python3"
  },
  "language_info": {
   "codemirror_mode": {
    "name": "ipython",
    "version": 2
   },
   "file_extension": ".py",
   "mimetype": "text/x-python",
   "name": "python",
   "nbconvert_exporter": "python",
   "pygments_lexer": "ipython2",
   "version": "2.7.6"
  }
 },
 "nbformat": 4,
 "nbformat_minor": 5
}
